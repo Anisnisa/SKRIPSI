{
  "nbformat": 4,
  "nbformat_minor": 0,
  "metadata": {
    "colab": {
      "provenance": [],
      "authorship_tag": "ABX9TyN0pRbHw1IAEYN0kkxKCQwY",
      "include_colab_link": true
    },
    "kernelspec": {
      "name": "python3",
      "display_name": "Python 3"
    },
    "language_info": {
      "name": "python"
    }
  },
  "cells": [
    {
      "cell_type": "markdown",
      "metadata": {
        "id": "view-in-github",
        "colab_type": "text"
      },
      "source": [
        "<a href=\"https://colab.research.google.com/github/Anisnisa/SKRIPSI/blob/main/GridCV_Anis.ipynb\" target=\"_parent\"><img src=\"https://colab.research.google.com/assets/colab-badge.svg\" alt=\"Open In Colab\"/></a>"
      ]
    },
    {
      "cell_type": "code",
      "source": [
        "pip install darts"
      ],
      "metadata": {
        "colab": {
          "base_uri": "https://localhost:8080/"
        },
        "id": "S3PdYPdv60Xa",
        "outputId": "964cd461-5d24-4a64-fa96-ca251c731263"
      },
      "execution_count": 1,
      "outputs": [
        {
          "output_type": "stream",
          "name": "stdout",
          "text": [
            "Looking in indexes: https://pypi.org/simple, https://us-python.pkg.dev/colab-wheels/public/simple/\n",
            "Requirement already satisfied: darts in /usr/local/lib/python3.7/dist-packages (0.22.0)\n",
            "Requirement already satisfied: prophet>=1.1.1 in /usr/local/lib/python3.7/dist-packages (from darts) (1.1.1)\n",
            "Requirement already satisfied: xarray>=0.17.0 in /usr/local/lib/python3.7/dist-packages (from darts) (0.20.2)\n",
            "Requirement already satisfied: statsforecast>=1.0.0 in /usr/local/lib/python3.7/dist-packages (from darts) (1.3.1)\n",
            "Requirement already satisfied: matplotlib>=3.3.0 in /usr/local/lib/python3.7/dist-packages (from darts) (3.5.3)\n",
            "Requirement already satisfied: statsmodels>=0.13.0 in /usr/local/lib/python3.7/dist-packages (from darts) (0.13.5)\n",
            "Requirement already satisfied: tbats>=1.1.0 in /usr/local/lib/python3.7/dist-packages (from darts) (1.1.1)\n",
            "Requirement already satisfied: joblib>=0.16.0 in /usr/local/lib/python3.7/dist-packages (from darts) (1.2.0)\n",
            "Requirement already satisfied: shap>=0.40.0 in /usr/local/lib/python3.7/dist-packages (from darts) (0.41.0)\n",
            "Requirement already satisfied: torch>=1.8.0 in /usr/local/lib/python3.7/dist-packages (from darts) (1.12.1+cu113)\n",
            "Requirement already satisfied: scipy>=1.3.2 in /usr/local/lib/python3.7/dist-packages (from darts) (1.7.3)\n",
            "Requirement already satisfied: scikit-learn>=1.0.1 in /usr/local/lib/python3.7/dist-packages (from darts) (1.0.2)\n",
            "Requirement already satisfied: nfoursid>=1.0.0 in /usr/local/lib/python3.7/dist-packages (from darts) (1.0.1)\n",
            "Requirement already satisfied: pandas>=1.0.5 in /usr/local/lib/python3.7/dist-packages (from darts) (1.3.5)\n",
            "Requirement already satisfied: holidays>=0.11.1 in /usr/local/lib/python3.7/dist-packages (from darts) (0.17)\n",
            "Requirement already satisfied: lightgbm>=2.2.3 in /usr/local/lib/python3.7/dist-packages (from darts) (2.2.3)\n",
            "Requirement already satisfied: catboost>=1.0.6 in /usr/local/lib/python3.7/dist-packages (from darts) (1.1.1)\n",
            "Requirement already satisfied: tqdm>=4.60.0 in /usr/local/lib/python3.7/dist-packages (from darts) (4.64.1)\n",
            "Requirement already satisfied: ipython>=5.0.0 in /usr/local/lib/python3.7/dist-packages (from darts) (7.9.0)\n",
            "Requirement already satisfied: pytorch-lightning>=1.5.0 in /usr/local/lib/python3.7/dist-packages (from darts) (1.8.3.post1)\n",
            "Requirement already satisfied: numpy>=1.19.0 in /usr/local/lib/python3.7/dist-packages (from darts) (1.21.6)\n",
            "Requirement already satisfied: pmdarima>=1.8.0 in /usr/local/lib/python3.7/dist-packages (from darts) (2.0.1)\n",
            "Requirement already satisfied: requests>=2.22.0 in /usr/local/lib/python3.7/dist-packages (from darts) (2.23.0)\n",
            "Requirement already satisfied: plotly in /usr/local/lib/python3.7/dist-packages (from catboost>=1.0.6->darts) (5.5.0)\n",
            "Requirement already satisfied: graphviz in /usr/local/lib/python3.7/dist-packages (from catboost>=1.0.6->darts) (0.10.1)\n",
            "Requirement already satisfied: six in /usr/local/lib/python3.7/dist-packages (from catboost>=1.0.6->darts) (1.15.0)\n",
            "Requirement already satisfied: hijri-converter in /usr/local/lib/python3.7/dist-packages (from holidays>=0.11.1->darts) (2.2.4)\n",
            "Requirement already satisfied: python-dateutil in /usr/local/lib/python3.7/dist-packages (from holidays>=0.11.1->darts) (2.8.2)\n",
            "Requirement already satisfied: convertdate>=2.3.0 in /usr/local/lib/python3.7/dist-packages (from holidays>=0.11.1->darts) (2.4.0)\n",
            "Requirement already satisfied: korean-lunar-calendar in /usr/local/lib/python3.7/dist-packages (from holidays>=0.11.1->darts) (0.3.1)\n",
            "Requirement already satisfied: pymeeus<=1,>=0.3.13 in /usr/local/lib/python3.7/dist-packages (from convertdate>=2.3.0->holidays>=0.11.1->darts) (0.5.11)\n",
            "Requirement already satisfied: prompt-toolkit<2.1.0,>=2.0.0 in /usr/local/lib/python3.7/dist-packages (from ipython>=5.0.0->darts) (2.0.10)\n",
            "Requirement already satisfied: decorator in /usr/local/lib/python3.7/dist-packages (from ipython>=5.0.0->darts) (4.4.2)\n",
            "Requirement already satisfied: backcall in /usr/local/lib/python3.7/dist-packages (from ipython>=5.0.0->darts) (0.2.0)\n",
            "Requirement already satisfied: setuptools>=18.5 in /usr/local/lib/python3.7/dist-packages (from ipython>=5.0.0->darts) (57.4.0)\n",
            "Requirement already satisfied: pygments in /usr/local/lib/python3.7/dist-packages (from ipython>=5.0.0->darts) (2.6.1)\n",
            "Requirement already satisfied: pexpect in /usr/local/lib/python3.7/dist-packages (from ipython>=5.0.0->darts) (4.8.0)\n",
            "Requirement already satisfied: jedi>=0.10 in /usr/local/lib/python3.7/dist-packages (from ipython>=5.0.0->darts) (0.18.2)\n",
            "Requirement already satisfied: pickleshare in /usr/local/lib/python3.7/dist-packages (from ipython>=5.0.0->darts) (0.7.5)\n",
            "Requirement already satisfied: traitlets>=4.2 in /usr/local/lib/python3.7/dist-packages (from ipython>=5.0.0->darts) (5.1.1)\n",
            "Requirement already satisfied: parso<0.9.0,>=0.8.0 in /usr/local/lib/python3.7/dist-packages (from jedi>=0.10->ipython>=5.0.0->darts) (0.8.3)\n",
            "Requirement already satisfied: kiwisolver>=1.0.1 in /usr/local/lib/python3.7/dist-packages (from matplotlib>=3.3.0->darts) (1.4.4)\n",
            "Requirement already satisfied: pyparsing>=2.2.1 in /usr/local/lib/python3.7/dist-packages (from matplotlib>=3.3.0->darts) (3.0.9)\n",
            "Requirement already satisfied: pillow>=6.2.0 in /usr/local/lib/python3.7/dist-packages (from matplotlib>=3.3.0->darts) (7.1.2)\n",
            "Requirement already satisfied: packaging>=20.0 in /usr/local/lib/python3.7/dist-packages (from matplotlib>=3.3.0->darts) (21.3)\n",
            "Requirement already satisfied: cycler>=0.10 in /usr/local/lib/python3.7/dist-packages (from matplotlib>=3.3.0->darts) (0.11.0)\n",
            "Requirement already satisfied: fonttools>=4.22.0 in /usr/local/lib/python3.7/dist-packages (from matplotlib>=3.3.0->darts) (4.38.0)\n",
            "Requirement already satisfied: typing-extensions in /usr/local/lib/python3.7/dist-packages (from kiwisolver>=1.0.1->matplotlib>=3.3.0->darts) (4.1.1)\n",
            "Requirement already satisfied: pytz>=2017.3 in /usr/local/lib/python3.7/dist-packages (from pandas>=1.0.5->darts) (2022.6)\n",
            "Requirement already satisfied: urllib3 in /usr/local/lib/python3.7/dist-packages (from pmdarima>=1.8.0->darts) (1.24.3)\n",
            "Requirement already satisfied: Cython!=0.29.18,!=0.29.31,>=0.29 in /usr/local/lib/python3.7/dist-packages (from pmdarima>=1.8.0->darts) (0.29.32)\n",
            "Requirement already satisfied: wcwidth in /usr/local/lib/python3.7/dist-packages (from prompt-toolkit<2.1.0,>=2.0.0->ipython>=5.0.0->darts) (0.2.5)\n",
            "Requirement already satisfied: cmdstanpy>=1.0.4 in /usr/local/lib/python3.7/dist-packages (from prophet>=1.1.1->darts) (1.0.8)\n",
            "Requirement already satisfied: wheel>=0.37.0 in /usr/local/lib/python3.7/dist-packages (from prophet>=1.1.1->darts) (0.38.4)\n",
            "Requirement already satisfied: setuptools-git>=1.2 in /usr/local/lib/python3.7/dist-packages (from prophet>=1.1.1->darts) (1.2)\n",
            "Requirement already satisfied: LunarCalendar>=0.0.9 in /usr/local/lib/python3.7/dist-packages (from prophet>=1.1.1->darts) (0.0.9)\n",
            "Requirement already satisfied: ephem>=3.7.5.3 in /usr/local/lib/python3.7/dist-packages (from LunarCalendar>=0.0.9->prophet>=1.1.1->darts) (4.1.3)\n",
            "Requirement already satisfied: torchmetrics>=0.7.0 in /usr/local/lib/python3.7/dist-packages (from pytorch-lightning>=1.5.0->darts) (0.10.3)\n",
            "Requirement already satisfied: fsspec[http]>2021.06.0 in /usr/local/lib/python3.7/dist-packages (from pytorch-lightning>=1.5.0->darts) (2022.11.0)\n",
            "Requirement already satisfied: PyYAML>=5.4 in /usr/local/lib/python3.7/dist-packages (from pytorch-lightning>=1.5.0->darts) (6.0)\n",
            "Requirement already satisfied: tensorboardX>=2.2 in /usr/local/lib/python3.7/dist-packages (from pytorch-lightning>=1.5.0->darts) (2.5.1)\n",
            "Requirement already satisfied: lightning-utilities==0.3.* in /usr/local/lib/python3.7/dist-packages (from pytorch-lightning>=1.5.0->darts) (0.3.0)\n",
            "Requirement already satisfied: fire in /usr/local/lib/python3.7/dist-packages (from lightning-utilities==0.3.*->pytorch-lightning>=1.5.0->darts) (0.4.0)\n",
            "Requirement already satisfied: aiohttp!=4.0.0a0,!=4.0.0a1 in /usr/local/lib/python3.7/dist-packages (from fsspec[http]>2021.06.0->pytorch-lightning>=1.5.0->darts) (3.8.3)\n",
            "Requirement already satisfied: attrs>=17.3.0 in /usr/local/lib/python3.7/dist-packages (from aiohttp!=4.0.0a0,!=4.0.0a1->fsspec[http]>2021.06.0->pytorch-lightning>=1.5.0->darts) (22.1.0)\n",
            "Requirement already satisfied: frozenlist>=1.1.1 in /usr/local/lib/python3.7/dist-packages (from aiohttp!=4.0.0a0,!=4.0.0a1->fsspec[http]>2021.06.0->pytorch-lightning>=1.5.0->darts) (1.3.3)\n",
            "Requirement already satisfied: async-timeout<5.0,>=4.0.0a3 in /usr/local/lib/python3.7/dist-packages (from aiohttp!=4.0.0a0,!=4.0.0a1->fsspec[http]>2021.06.0->pytorch-lightning>=1.5.0->darts) (4.0.2)\n",
            "Requirement already satisfied: asynctest==0.13.0 in /usr/local/lib/python3.7/dist-packages (from aiohttp!=4.0.0a0,!=4.0.0a1->fsspec[http]>2021.06.0->pytorch-lightning>=1.5.0->darts) (0.13.0)\n",
            "Requirement already satisfied: yarl<2.0,>=1.0 in /usr/local/lib/python3.7/dist-packages (from aiohttp!=4.0.0a0,!=4.0.0a1->fsspec[http]>2021.06.0->pytorch-lightning>=1.5.0->darts) (1.8.1)\n",
            "Requirement already satisfied: aiosignal>=1.1.2 in /usr/local/lib/python3.7/dist-packages (from aiohttp!=4.0.0a0,!=4.0.0a1->fsspec[http]>2021.06.0->pytorch-lightning>=1.5.0->darts) (1.3.1)\n",
            "Requirement already satisfied: charset-normalizer<3.0,>=2.0 in /usr/local/lib/python3.7/dist-packages (from aiohttp!=4.0.0a0,!=4.0.0a1->fsspec[http]>2021.06.0->pytorch-lightning>=1.5.0->darts) (2.1.1)\n",
            "Requirement already satisfied: multidict<7.0,>=4.5 in /usr/local/lib/python3.7/dist-packages (from aiohttp!=4.0.0a0,!=4.0.0a1->fsspec[http]>2021.06.0->pytorch-lightning>=1.5.0->darts) (6.0.2)\n",
            "Requirement already satisfied: chardet<4,>=3.0.2 in /usr/local/lib/python3.7/dist-packages (from requests>=2.22.0->darts) (3.0.4)\n",
            "Requirement already satisfied: idna<3,>=2.5 in /usr/local/lib/python3.7/dist-packages (from requests>=2.22.0->darts) (2.10)\n",
            "Requirement already satisfied: certifi>=2017.4.17 in /usr/local/lib/python3.7/dist-packages (from requests>=2.22.0->darts) (2022.9.24)\n",
            "Requirement already satisfied: threadpoolctl>=2.0.0 in /usr/local/lib/python3.7/dist-packages (from scikit-learn>=1.0.1->darts) (3.1.0)\n",
            "Requirement already satisfied: cloudpickle in /usr/local/lib/python3.7/dist-packages (from shap>=0.40.0->darts) (1.5.0)\n",
            "Requirement already satisfied: numba in /usr/local/lib/python3.7/dist-packages (from shap>=0.40.0->darts) (0.56.4)\n",
            "Requirement already satisfied: slicer==0.0.7 in /usr/local/lib/python3.7/dist-packages (from shap>=0.40.0->darts) (0.0.7)\n",
            "Requirement already satisfied: importlib-metadata in /usr/local/lib/python3.7/dist-packages (from numba->shap>=0.40.0->darts) (4.13.0)\n",
            "Requirement already satisfied: llvmlite<0.40,>=0.39.0dev0 in /usr/local/lib/python3.7/dist-packages (from numba->shap>=0.40.0->darts) (0.39.1)\n",
            "Requirement already satisfied: patsy>=0.5.2 in /usr/local/lib/python3.7/dist-packages (from statsmodels>=0.13.0->darts) (0.5.3)\n",
            "Requirement already satisfied: protobuf<=3.20.1,>=3.8.0 in /usr/local/lib/python3.7/dist-packages (from tensorboardX>=2.2->pytorch-lightning>=1.5.0->darts) (3.19.6)\n",
            "Requirement already satisfied: termcolor in /usr/local/lib/python3.7/dist-packages (from fire->lightning-utilities==0.3.*->pytorch-lightning>=1.5.0->darts) (2.1.0)\n",
            "Requirement already satisfied: zipp>=0.5 in /usr/local/lib/python3.7/dist-packages (from importlib-metadata->numba->shap>=0.40.0->darts) (3.10.0)\n",
            "Requirement already satisfied: ptyprocess>=0.5 in /usr/local/lib/python3.7/dist-packages (from pexpect->ipython>=5.0.0->darts) (0.7.0)\n",
            "Requirement already satisfied: tenacity>=6.2.0 in /usr/local/lib/python3.7/dist-packages (from plotly->catboost>=1.0.6->darts) (8.1.0)\n"
          ]
        }
      ]
    },
    {
      "cell_type": "code",
      "source": [
        "import warnings; warnings.simplefilter('ignore'); warnings.filterwarnings('ignore', module='darts'); warnings.filterwarnings('ignore', module='pandas')\n",
        "import numpy as np, darts, sys, pandas as pd\n",
        "from darts import metrics\n",
        "\n",
        "SEED = 0\n"
      ],
      "metadata": {
        "id": "SMK0nZbMP-Mo"
      },
      "execution_count": 2,
      "outputs": []
    },
    {
      "cell_type": "code",
      "source": [
        "pip install dysts"
      ],
      "metadata": {
        "colab": {
          "base_uri": "https://localhost:8080/"
        },
        "id": "EmgGUsdJQFID",
        "outputId": "f86d6c69-98db-4ece-d6f0-8b6f31612541"
      },
      "execution_count": 3,
      "outputs": [
        {
          "output_type": "stream",
          "name": "stdout",
          "text": [
            "Looking in indexes: https://pypi.org/simple, https://us-python.pkg.dev/colab-wheels/public/simple/\n",
            "Requirement already satisfied: dysts in /usr/local/lib/python3.7/dist-packages (0.1)\n",
            "Requirement already satisfied: numpy in /usr/local/lib/python3.7/dist-packages (from dysts) (1.21.6)\n",
            "Requirement already satisfied: scipy in /usr/local/lib/python3.7/dist-packages (from dysts) (1.7.3)\n"
          ]
        }
      ]
    },
    {
      "cell_type": "code",
      "source": [
        "#Loading Contoh Data dari Dysts\n",
        "from dysts.datasets import load_dataset\n",
        "\n",
        "data = 'Sakarya'\n",
        "train_ = load_dataset(subsets=\"train\", data_format=\"pandas\", univariate=True).loc[data]\n",
        "test_ = load_dataset(subsets=\"test\", data_format=\"pandas\", univariate=True).loc[data] #kenapa dibagi disini pada di bawah juga dibagi lagi, apakah memang sudah dari sananya dibagi\n",
        "\n",
        "df = pd.concat([train_, test_], axis=0).reset_index()\n",
        "# Hati-hati versi terbaru harus \"reset_index\" kalau ndak cell selanjutnya error\n",
        "print(df.shape)\n",
        "df.head() \n",
        "\n"
      ],
      "metadata": {
        "colab": {
          "base_uri": "https://localhost:8080/",
          "height": 224
        },
        "id": "89QytyUSQITs",
        "outputId": "84dae758-190f-447c-83a6-a24a8d9dc71c"
      },
      "execution_count": 4,
      "outputs": [
        {
          "output_type": "stream",
          "name": "stdout",
          "text": [
            "(2000, 4)\n"
          ]
        },
        {
          "output_type": "execute_result",
          "data": {
            "text/plain": [
              "     index    id      time    values\n",
              "0  Sakarya  89.0  0.000000  1.371272\n",
              "1  Sakarya  89.0  0.049886  1.346195\n",
              "2  Sakarya  89.0  0.099771  1.312314\n",
              "3  Sakarya  89.0  0.149657  1.272231\n",
              "4  Sakarya  89.0  0.199542  1.228115"
            ],
            "text/html": [
              "\n",
              "  <div id=\"df-29a1520f-a513-4957-bdbe-817aa06c3e50\">\n",
              "    <div class=\"colab-df-container\">\n",
              "      <div>\n",
              "<style scoped>\n",
              "    .dataframe tbody tr th:only-of-type {\n",
              "        vertical-align: middle;\n",
              "    }\n",
              "\n",
              "    .dataframe tbody tr th {\n",
              "        vertical-align: top;\n",
              "    }\n",
              "\n",
              "    .dataframe thead th {\n",
              "        text-align: right;\n",
              "    }\n",
              "</style>\n",
              "<table border=\"1\" class=\"dataframe\">\n",
              "  <thead>\n",
              "    <tr style=\"text-align: right;\">\n",
              "      <th></th>\n",
              "      <th>index</th>\n",
              "      <th>id</th>\n",
              "      <th>time</th>\n",
              "      <th>values</th>\n",
              "    </tr>\n",
              "  </thead>\n",
              "  <tbody>\n",
              "    <tr>\n",
              "      <th>0</th>\n",
              "      <td>Sakarya</td>\n",
              "      <td>89.0</td>\n",
              "      <td>0.000000</td>\n",
              "      <td>1.371272</td>\n",
              "    </tr>\n",
              "    <tr>\n",
              "      <th>1</th>\n",
              "      <td>Sakarya</td>\n",
              "      <td>89.0</td>\n",
              "      <td>0.049886</td>\n",
              "      <td>1.346195</td>\n",
              "    </tr>\n",
              "    <tr>\n",
              "      <th>2</th>\n",
              "      <td>Sakarya</td>\n",
              "      <td>89.0</td>\n",
              "      <td>0.099771</td>\n",
              "      <td>1.312314</td>\n",
              "    </tr>\n",
              "    <tr>\n",
              "      <th>3</th>\n",
              "      <td>Sakarya</td>\n",
              "      <td>89.0</td>\n",
              "      <td>0.149657</td>\n",
              "      <td>1.272231</td>\n",
              "    </tr>\n",
              "    <tr>\n",
              "      <th>4</th>\n",
              "      <td>Sakarya</td>\n",
              "      <td>89.0</td>\n",
              "      <td>0.199542</td>\n",
              "      <td>1.228115</td>\n",
              "    </tr>\n",
              "  </tbody>\n",
              "</table>\n",
              "</div>\n",
              "      <button class=\"colab-df-convert\" onclick=\"convertToInteractive('df-29a1520f-a513-4957-bdbe-817aa06c3e50')\"\n",
              "              title=\"Convert this dataframe to an interactive table.\"\n",
              "              style=\"display:none;\">\n",
              "        \n",
              "  <svg xmlns=\"http://www.w3.org/2000/svg\" height=\"24px\"viewBox=\"0 0 24 24\"\n",
              "       width=\"24px\">\n",
              "    <path d=\"M0 0h24v24H0V0z\" fill=\"none\"/>\n",
              "    <path d=\"M18.56 5.44l.94 2.06.94-2.06 2.06-.94-2.06-.94-.94-2.06-.94 2.06-2.06.94zm-11 1L8.5 8.5l.94-2.06 2.06-.94-2.06-.94L8.5 2.5l-.94 2.06-2.06.94zm10 10l.94 2.06.94-2.06 2.06-.94-2.06-.94-.94-2.06-.94 2.06-2.06.94z\"/><path d=\"M17.41 7.96l-1.37-1.37c-.4-.4-.92-.59-1.43-.59-.52 0-1.04.2-1.43.59L10.3 9.45l-7.72 7.72c-.78.78-.78 2.05 0 2.83L4 21.41c.39.39.9.59 1.41.59.51 0 1.02-.2 1.41-.59l7.78-7.78 2.81-2.81c.8-.78.8-2.07 0-2.86zM5.41 20L4 18.59l7.72-7.72 1.47 1.35L5.41 20z\"/>\n",
              "  </svg>\n",
              "      </button>\n",
              "      \n",
              "  <style>\n",
              "    .colab-df-container {\n",
              "      display:flex;\n",
              "      flex-wrap:wrap;\n",
              "      gap: 12px;\n",
              "    }\n",
              "\n",
              "    .colab-df-convert {\n",
              "      background-color: #E8F0FE;\n",
              "      border: none;\n",
              "      border-radius: 50%;\n",
              "      cursor: pointer;\n",
              "      display: none;\n",
              "      fill: #1967D2;\n",
              "      height: 32px;\n",
              "      padding: 0 0 0 0;\n",
              "      width: 32px;\n",
              "    }\n",
              "\n",
              "    .colab-df-convert:hover {\n",
              "      background-color: #E2EBFA;\n",
              "      box-shadow: 0px 1px 2px rgba(60, 64, 67, 0.3), 0px 1px 3px 1px rgba(60, 64, 67, 0.15);\n",
              "      fill: #174EA6;\n",
              "    }\n",
              "\n",
              "    [theme=dark] .colab-df-convert {\n",
              "      background-color: #3B4455;\n",
              "      fill: #D2E3FC;\n",
              "    }\n",
              "\n",
              "    [theme=dark] .colab-df-convert:hover {\n",
              "      background-color: #434B5C;\n",
              "      box-shadow: 0px 1px 3px 1px rgba(0, 0, 0, 0.15);\n",
              "      filter: drop-shadow(0px 1px 2px rgba(0, 0, 0, 0.3));\n",
              "      fill: #FFFFFF;\n",
              "    }\n",
              "  </style>\n",
              "\n",
              "      <script>\n",
              "        const buttonEl =\n",
              "          document.querySelector('#df-29a1520f-a513-4957-bdbe-817aa06c3e50 button.colab-df-convert');\n",
              "        buttonEl.style.display =\n",
              "          google.colab.kernel.accessAllowed ? 'block' : 'none';\n",
              "\n",
              "        async function convertToInteractive(key) {\n",
              "          const element = document.querySelector('#df-29a1520f-a513-4957-bdbe-817aa06c3e50');\n",
              "          const dataTable =\n",
              "            await google.colab.kernel.invokeFunction('convertToInteractive',\n",
              "                                                     [key], {});\n",
              "          if (!dataTable) return;\n",
              "\n",
              "          const docLinkHtml = 'Like what you see? Visit the ' +\n",
              "            '<a target=\"_blank\" href=https://colab.research.google.com/notebooks/data_table.ipynb>data table notebook</a>'\n",
              "            + ' to learn more about interactive tables.';\n",
              "          element.innerHTML = '';\n",
              "          dataTable['output_type'] = 'display_data';\n",
              "          await google.colab.output.renderOutput(dataTable, element);\n",
              "          const docLink = document.createElement('div');\n",
              "          docLink.innerHTML = docLinkHtml;\n",
              "          element.appendChild(docLink);\n",
              "        }\n",
              "      </script>\n",
              "    </div>\n",
              "  </div>\n",
              "  "
            ]
          },
          "metadata": {},
          "execution_count": 4
        }
      ]
    },
    {
      "cell_type": "code",
      "source": [
        "#Transform \"Pandas Dataframe\" ke \"Darts Series\"\n",
        "def df2series(df, cols):\n",
        "    for i, col in enumerate(df[cols].columns):\n",
        "        if i==0:\n",
        "            series = darts.TimeSeries.from_dataframe(df, time_col=None, value_cols=col)\n",
        "        else:\n",
        "            series = series.stack(darts.TimeSeries.from_dataframe(df, time_col=None, value_cols=col))\n",
        "    return series\n",
        "\n",
        "cols = ['values'] # Silahkan rename jadi x, y, z\n",
        "\n",
        "\n",
        "data = df2series(df, cols)\n",
        "train, test = data.split_after(0.95)\n",
        "print(len(train), len(test))\n",
        "train['values'].plot()\n",
        "test['values'].plot()\n",
        "\n",
        "\n"
      ],
      "metadata": {
        "colab": {
          "base_uri": "https://localhost:8080/",
          "height": 295
        },
        "id": "_TPw7YJiQL_9",
        "outputId": "8238dad6-75cd-4902-a466-7925da6d425e"
      },
      "execution_count": 5,
      "outputs": [
        {
          "output_type": "stream",
          "name": "stdout",
          "text": [
            "1900 100\n"
          ]
        },
        {
          "output_type": "display_data",
          "data": {
            "text/plain": [
              "<Figure size 432x288 with 1 Axes>"
            ],
            "image/png": "[encoded data removed]"
          },
          "metadata": {
            "needs_background": "light"
          }
        }
      ]
    },
    {
      "cell_type": "code",
      "source": [
        "from darts.models import RandomForest\n",
        "\n",
        "def RF(data, model, pVal=0.1, n_jobs=4, verbose_=False, metric_='smape'):\n",
        "    # https://unit8co.github.io/darts/generated_api/darts.models.forecasting.random_forest.html\n",
        "    parameters = {\n",
        "        \"lags\": (range(2,13)), # list(range(2, 13)),\n",
        "        \"output_chunk_length\" : [1, 2, 3, 4, 5, 10, 15, 16],\n",
        "        \"n_estimators\":[10, 25, 50], # list(range(10,110,10))\n",
        "        \"random_state\":[SEED],}\n",
        "\n",
        "    train, val = data.split_after(1-pVal)\n",
        "    res = model.gridsearch(\n",
        "        parameters=parameters,\n",
        "        series=train,\n",
        "        val_series=val,\n",
        "        start=0.1,  # starting point in training set\n",
        "        last_points_only=False,\n",
        "        metric=getattr(metrics, metric_),\n",
        "        reduction=np.mean,\n",
        "        n_jobs=n_jobs,\n",
        "        n_random_samples=None,# 0.99 % of full search space to evaluate\n",
        "        verbose=verbose_,\n",
        "    )\n",
        "    return res"
      ],
      "metadata": {
        "id": "qRRKtIQNQPco"
      },
      "execution_count": 6,
      "outputs": []
    },
    {
      "cell_type": "code",
      "source": [
        "smape = []\n",
        "rmse =[]\n",
        "\n",
        "for x,y in enumerate(data):\n",
        "  data = x + y\n",
        "  if y < 600:\n",
        "    model, bestparams, bestMetric_ = RF(x, RandomForest)\n",
        "    print(\"BestParameters\", bestparams)\n",
        "    print(\"bestMetric_\", bestMetric_)\n",
        "    # ===================== Training, Forecast & BackTest for Cross Validation=============================\n",
        "    print(\"GridSearch Finished,Training Best Model ... \", flush=True)\n",
        "    model.fit(x)\n",
        "    forecast_ = model.predict(len(y))\n",
        "    del model \n",
        "    smape.append(darts.metrics.smape(y, forecast_))\n",
        "    rmse.append(darts.metrics.rmse(y, forecast_))\n",
        "    y =- 5\n",
        "  else:\n",
        "    print(\"selesai\")\n"
      ],
      "metadata": {
        "colab": {
          "base_uri": "https://localhost:8080/",
          "height": 356
        },
        "id": "IaQ90sLHAl0K",
        "outputId": "0653279f-6677-4f1f-d6ed-64634a9d0064"
      },
      "execution_count": 16,
      "outputs": [
        {
          "output_type": "error",
          "ename": "AttributeError",
          "evalue": "ignored",
          "traceback": [
            "\u001b[0;31m---------------------------------------------------------------------------\u001b[0m",
            "\u001b[0;31mAttributeError\u001b[0m                            Traceback (most recent call last)",
            "\u001b[0;32m<ipython-input-16-d443e419f7d6>\u001b[0m in \u001b[0;36m<module>\u001b[0;34m\u001b[0m\n\u001b[1;32m      5\u001b[0m   \u001b[0mdata\u001b[0m \u001b[0;34m=\u001b[0m \u001b[0mx\u001b[0m \u001b[0;34m+\u001b[0m \u001b[0my\u001b[0m\u001b[0;34m\u001b[0m\u001b[0;34m\u001b[0m\u001b[0m\n\u001b[1;32m      6\u001b[0m   \u001b[0;32mif\u001b[0m \u001b[0my\u001b[0m \u001b[0;34m<\u001b[0m \u001b[0;36m600\u001b[0m\u001b[0;34m:\u001b[0m\u001b[0;34m\u001b[0m\u001b[0;34m\u001b[0m\u001b[0m\n\u001b[0;32m----> 7\u001b[0;31m     \u001b[0mmodel\u001b[0m\u001b[0;34m,\u001b[0m \u001b[0mbestparams\u001b[0m\u001b[0;34m,\u001b[0m \u001b[0mbestMetric_\u001b[0m \u001b[0;34m=\u001b[0m \u001b[0mRF\u001b[0m\u001b[0;34m(\u001b[0m\u001b[0mx\u001b[0m\u001b[0;34m,\u001b[0m \u001b[0mRandomForest\u001b[0m\u001b[0;34m)\u001b[0m\u001b[0;34m\u001b[0m\u001b[0;34m\u001b[0m\u001b[0m\n\u001b[0m\u001b[1;32m      8\u001b[0m     \u001b[0mprint\u001b[0m\u001b[0;34m(\u001b[0m\u001b[0;34m\"BestParameters\"\u001b[0m\u001b[0;34m,\u001b[0m \u001b[0mbestparams\u001b[0m\u001b[0;34m)\u001b[0m\u001b[0;34m\u001b[0m\u001b[0;34m\u001b[0m\u001b[0m\n\u001b[1;32m      9\u001b[0m     \u001b[0mprint\u001b[0m\u001b[0;34m(\u001b[0m\u001b[0;34m\"bestMetric_\"\u001b[0m\u001b[0;34m,\u001b[0m \u001b[0mbestMetric_\u001b[0m\u001b[0;34m)\u001b[0m\u001b[0;34m\u001b[0m\u001b[0;34m\u001b[0m\u001b[0m\n",
            "\u001b[0;32m<ipython-input-6-30e6248b73a9>\u001b[0m in \u001b[0;36mRF\u001b[0;34m(data, model, pVal, n_jobs, verbose_, metric_)\u001b[0m\n\u001b[1;32m      9\u001b[0m         \"random_state\":[SEED],}\n\u001b[1;32m     10\u001b[0m \u001b[0;34m\u001b[0m\u001b[0m\n\u001b[0;32m---> 11\u001b[0;31m     \u001b[0mtrain\u001b[0m\u001b[0;34m,\u001b[0m \u001b[0mval\u001b[0m \u001b[0;34m=\u001b[0m \u001b[0mdata\u001b[0m\u001b[0;34m.\u001b[0m\u001b[0msplit_after\u001b[0m\u001b[0;34m(\u001b[0m\u001b[0;36m1\u001b[0m\u001b[0;34m-\u001b[0m\u001b[0mpVal\u001b[0m\u001b[0;34m)\u001b[0m\u001b[0;34m\u001b[0m\u001b[0;34m\u001b[0m\u001b[0m\n\u001b[0m\u001b[1;32m     12\u001b[0m     res = model.gridsearch(\n\u001b[1;32m     13\u001b[0m         \u001b[0mparameters\u001b[0m\u001b[0;34m=\u001b[0m\u001b[0mparameters\u001b[0m\u001b[0;34m,\u001b[0m\u001b[0;34m\u001b[0m\u001b[0;34m\u001b[0m\u001b[0m\n",
            "\u001b[0;31mAttributeError\u001b[0m: 'int' object has no attribute 'split_after'"
          ]
        }
      ]
    },
    {
      "cell_type": "code",
      "source": [
        "model, bestparams, bestMetric_ = RF(train, RandomForest)\n",
        "print(\"BestParameters\", bestparams)\n",
        "print(\"bestMetric_\", bestMetric_)\n",
        "# ===================== Training, Forecast & BackTest for Cross Validation=============================\n",
        "print(\"GridSearch Finished,Training Best Model ... \", flush=True)\n",
        "model.fit(train)\n",
        "forecast_ = model.predict(len(test))\n",
        "del model \n",
        "smape_ = darts.metrics.smape(test, forecast_)\n",
        "rmse_ = darts.metrics.rmse(test, forecast_)\n",
        "print(\"Pada data test RMSE={}, sMAPE={} \".format(rmse_, smape_), flush=True)"
      ],
      "metadata": {
        "colab": {
          "base_uri": "https://localhost:8080/"
        },
        "id": "x7u80Ge6SLjH",
        "outputId": "3c430c34-9942-4124-9ee0-a53f30439109"
      },
      "execution_count": 19,
      "outputs": [
        {
          "output_type": "stream",
          "name": "stdout",
          "text": [
            "BestParameters {'lags': 10, 'output_chunk_length': 15, 'n_estimators': 25, 'random_state': 0}\n",
            "bestMetric_ 60.4476401875559\n",
            "GridSearch Finished,Training Best Model ... \n",
            "Pada data test RMSE=0.4059693872724611, sMAPE=34.96323211412177 \n"
          ]
        }
      ]
    },
    {
      "cell_type": "code",
      "source": [
        "test['values'].plot()\n",
        "forecast_['values'].plot()"
      ],
      "metadata": {
        "colab": {
          "base_uri": "https://localhost:8080/",
          "height": 278
        },
        "id": "WKDLqWbfSdPt",
        "outputId": "fd698f35-2d40-403c-d481-9ad30ee759ae"
      },
      "execution_count": 20,
      "outputs": [
        {
          "output_type": "display_data",
          "data": {
            "text/plain": [
              "<Figure size 432x288 with 1 Axes>"
            ],
            "image/png": "[encoded data removed]"
          },
          "metadata": {
            "needs_background": "light"
          }
        }
      ]
    },
    {
      "cell_type": "code",
      "source": [
        "# ===================== Forecast & BackTest for Cross Validation=============================\n",
        "print(\"Starting Backtest (Expanding Window) Cross Validation ...\", flush=True)\n",
        "backTest = model.historical_forecasts(data, start=.95, forecast_horizon=10)\n",
        "\n",
        "print(\"Backtest Finished\", flush=True)\n",
        "# ===================== Evaluate ============================="
      ],
      "metadata": {
        "colab": {
          "base_uri": "https://localhost:8080/"
        },
        "id": "LENqTmXsWROv",
        "outputId": "af5c6e7b-c5ec-4239-a7a3-f13df8a03efd"
      },
      "execution_count": 21,
      "outputs": [
        {
          "output_type": "stream",
          "name": "stdout",
          "text": [
            "Starting Backtest (Expanding Window) Cross Validation ...\n",
            "Backtest Finished\n"
          ]
        }
      ]
    },
    {
      "cell_type": "code",
      "source": [
        "smape_ = darts.metrics.smape(data, backTest)\n",
        "rmse_ = darts.metrics.rmse(data, backTest)\n",
        "print(\"Hasil Cross Validasi RMSE={}, sMAPE={} \".format(rmse_, smape_), flush=True)"
      ],
      "metadata": {
        "colab": {
          "base_uri": "https://localhost:8080/"
        },
        "id": "_8ig9btqWclk",
        "outputId": "40409c22-f169-484a-914c-20907a64ad95"
      },
      "execution_count": 22,
      "outputs": [
        {
          "output_type": "stream",
          "name": "stdout",
          "text": [
            "Hasil Cross Validasi RMSE=0.2552725584295239, sMAPE=31.087188906033436 \n"
          ]
        }
      ]
    },
    {
      "cell_type": "code",
      "source": [
        "test['values'].plot()\n",
        "backTest['values'].plot()"
      ],
      "metadata": {
        "colab": {
          "base_uri": "https://localhost:8080/",
          "height": 278
        },
        "id": "ilKCWGfPXgd-",
        "outputId": "0686137e-bcad-4904-a5c7-479590e442be"
      },
      "execution_count": 23,
      "outputs": [
        {
          "output_type": "display_data",
          "data": {
            "text/plain": [
              "<Figure size 432x288 with 1 Axes>"
            ],
            "image/png": "[encoded data removed]"
          },
          "metadata": {
            "needs_background": "light"
          }
        }
      ]
    },
    {
      "cell_type": "code",
      "source": [],
      "metadata": {
        "id": "fSFuNMd94eL4"
      },
      "execution_count": 23,
      "outputs": []
    }
  ]
}