{
  "nbformat": 4,
  "nbformat_minor": 0,
  "metadata": {
    "colab": {
      "provenance": []
    },
    "kernelspec": {
      "name": "python3",
      "display_name": "Python 3"
    },
    "language_info": {
      "name": "python"
    }
  },
  "cells": [
    {
      "cell_type": "code",
      "execution_count": 1,
      "metadata": {
        "id": "mOesyvDCxp4a"
      },
      "outputs": [],
      "source": [
        "import warnings; warnings.simplefilter('ignore')\n",
        "import scipy, itertools, pandas as pd, matplotlib.pyplot as plt, seaborn as sns, numpy as np\n",
        "from scipy import stats\n",
        "from sklearn.preprocessing import StandardScaler, MinMaxScaler\n",
        "\n",
        "plt.style.use('bmh'); sns.set()"
      ]
    },
    {
      "cell_type": "code",
      "source": [
        "pip install darts"
      ],
      "metadata": {
        "colab": {
          "base_uri": "https://localhost:8080/"
        },
        "id": "Y7DTA3dVy5at",
        "outputId": "110b1e53-1a5c-4927-ce91-ece5286e1449"
      },
      "execution_count": 2,
      "outputs": [
        {
          "output_type": "stream",
          "name": "stdout",
          "text": [
            "Looking in indexes: https://pypi.org/simple, https://us-python.pkg.dev/colab-wheels/public/simple/\n",
            "Requirement already satisfied: darts in /usr/local/lib/python3.7/dist-packages (0.22.0)\n",
            "Requirement already satisfied: tbats>=1.1.0 in /usr/local/lib/python3.7/dist-packages (from darts) (1.1.1)\n",
            "Requirement already satisfied: tqdm>=4.60.0 in /usr/local/lib/python3.7/dist-packages (from darts) (4.64.1)\n",
            "Requirement already satisfied: numpy>=1.19.0 in /usr/local/lib/python3.7/dist-packages (from darts) (1.21.6)\n",
            "Requirement already satisfied: joblib>=0.16.0 in /usr/local/lib/python3.7/dist-packages (from darts) (1.2.0)\n",
            "Requirement already satisfied: pmdarima>=1.8.0 in /usr/local/lib/python3.7/dist-packages (from darts) (2.0.1)\n",
            "Requirement already satisfied: scipy>=1.3.2 in /usr/local/lib/python3.7/dist-packages (from darts) (1.7.3)\n",
            "Requirement already satisfied: ipython>=5.0.0 in /usr/local/lib/python3.7/dist-packages (from darts) (7.9.0)\n",
            "Requirement already satisfied: pytorch-lightning>=1.5.0 in /usr/local/lib/python3.7/dist-packages (from darts) (1.8.1)\n",
            "Requirement already satisfied: prophet>=1.1.1 in /usr/local/lib/python3.7/dist-packages (from darts) (1.1.1)\n",
            "Requirement already satisfied: requests>=2.22.0 in /usr/local/lib/python3.7/dist-packages (from darts) (2.23.0)\n",
            "Requirement already satisfied: scikit-learn>=1.0.1 in /usr/local/lib/python3.7/dist-packages (from darts) (1.0.2)\n",
            "Requirement already satisfied: statsforecast>=1.0.0 in /usr/local/lib/python3.7/dist-packages (from darts) (1.2.1)\n",
            "Requirement already satisfied: holidays>=0.11.1 in /usr/local/lib/python3.7/dist-packages (from darts) (0.16)\n",
            "Requirement already satisfied: lightgbm>=2.2.3 in /usr/local/lib/python3.7/dist-packages (from darts) (2.2.3)\n",
            "Requirement already satisfied: catboost>=1.0.6 in /usr/local/lib/python3.7/dist-packages (from darts) (1.1.1)\n",
            "Requirement already satisfied: pandas>=1.0.5 in /usr/local/lib/python3.7/dist-packages (from darts) (1.3.5)\n",
            "Requirement already satisfied: nfoursid>=1.0.0 in /usr/local/lib/python3.7/dist-packages (from darts) (1.0.1)\n",
            "Requirement already satisfied: xarray>=0.17.0 in /usr/local/lib/python3.7/dist-packages (from darts) (0.20.2)\n",
            "Requirement already satisfied: shap>=0.40.0 in /usr/local/lib/python3.7/dist-packages (from darts) (0.41.0)\n",
            "Requirement already satisfied: statsmodels>=0.13.0 in /usr/local/lib/python3.7/dist-packages (from darts) (0.13.5)\n",
            "Requirement already satisfied: torch>=1.8.0 in /usr/local/lib/python3.7/dist-packages (from darts) (1.12.1+cu113)\n",
            "Requirement already satisfied: matplotlib>=3.3.0 in /usr/local/lib/python3.7/dist-packages (from darts) (3.5.3)\n",
            "Requirement already satisfied: graphviz in /usr/local/lib/python3.7/dist-packages (from catboost>=1.0.6->darts) (0.10.1)\n",
            "Requirement already satisfied: six in /usr/local/lib/python3.7/dist-packages (from catboost>=1.0.6->darts) (1.15.0)\n",
            "Requirement already satisfied: plotly in /usr/local/lib/python3.7/dist-packages (from catboost>=1.0.6->darts) (5.5.0)\n",
            "Requirement already satisfied: python-dateutil in /usr/local/lib/python3.7/dist-packages (from holidays>=0.11.1->darts) (2.8.2)\n",
            "Requirement already satisfied: hijri-converter in /usr/local/lib/python3.7/dist-packages (from holidays>=0.11.1->darts) (2.2.4)\n",
            "Requirement already satisfied: korean-lunar-calendar in /usr/local/lib/python3.7/dist-packages (from holidays>=0.11.1->darts) (0.3.1)\n",
            "Requirement already satisfied: convertdate>=2.3.0 in /usr/local/lib/python3.7/dist-packages (from holidays>=0.11.1->darts) (2.4.0)\n",
            "Requirement already satisfied: pymeeus<=1,>=0.3.13 in /usr/local/lib/python3.7/dist-packages (from convertdate>=2.3.0->holidays>=0.11.1->darts) (0.5.11)\n",
            "Requirement already satisfied: jedi>=0.10 in /usr/local/lib/python3.7/dist-packages (from ipython>=5.0.0->darts) (0.18.1)\n",
            "Requirement already satisfied: traitlets>=4.2 in /usr/local/lib/python3.7/dist-packages (from ipython>=5.0.0->darts) (5.1.1)\n",
            "Requirement already satisfied: prompt-toolkit<2.1.0,>=2.0.0 in /usr/local/lib/python3.7/dist-packages (from ipython>=5.0.0->darts) (2.0.10)\n",
            "Requirement already satisfied: pexpect in /usr/local/lib/python3.7/dist-packages (from ipython>=5.0.0->darts) (4.8.0)\n",
            "Requirement already satisfied: pickleshare in /usr/local/lib/python3.7/dist-packages (from ipython>=5.0.0->darts) (0.7.5)\n",
            "Requirement already satisfied: backcall in /usr/local/lib/python3.7/dist-packages (from ipython>=5.0.0->darts) (0.2.0)\n",
            "Requirement already satisfied: setuptools>=18.5 in /usr/local/lib/python3.7/dist-packages (from ipython>=5.0.0->darts) (57.4.0)\n",
            "Requirement already satisfied: pygments in /usr/local/lib/python3.7/dist-packages (from ipython>=5.0.0->darts) (2.6.1)\n",
            "Requirement already satisfied: decorator in /usr/local/lib/python3.7/dist-packages (from ipython>=5.0.0->darts) (4.4.2)\n",
            "Requirement already satisfied: parso<0.9.0,>=0.8.0 in /usr/local/lib/python3.7/dist-packages (from jedi>=0.10->ipython>=5.0.0->darts) (0.8.3)\n",
            "Requirement already satisfied: pillow>=6.2.0 in /usr/local/lib/python3.7/dist-packages (from matplotlib>=3.3.0->darts) (7.1.2)\n",
            "Requirement already satisfied: kiwisolver>=1.0.1 in /usr/local/lib/python3.7/dist-packages (from matplotlib>=3.3.0->darts) (1.4.4)\n",
            "Requirement already satisfied: packaging>=20.0 in /usr/local/lib/python3.7/dist-packages (from matplotlib>=3.3.0->darts) (21.3)\n",
            "Requirement already satisfied: cycler>=0.10 in /usr/local/lib/python3.7/dist-packages (from matplotlib>=3.3.0->darts) (0.11.0)\n",
            "Requirement already satisfied: fonttools>=4.22.0 in /usr/local/lib/python3.7/dist-packages (from matplotlib>=3.3.0->darts) (4.38.0)\n",
            "Requirement already satisfied: pyparsing>=2.2.1 in /usr/local/lib/python3.7/dist-packages (from matplotlib>=3.3.0->darts) (3.0.9)\n",
            "Requirement already satisfied: typing-extensions in /usr/local/lib/python3.7/dist-packages (from kiwisolver>=1.0.1->matplotlib>=3.3.0->darts) (4.1.1)\n",
            "Requirement already satisfied: pytz>=2017.3 in /usr/local/lib/python3.7/dist-packages (from pandas>=1.0.5->darts) (2022.6)\n",
            "Requirement already satisfied: Cython!=0.29.18,!=0.29.31,>=0.29 in /usr/local/lib/python3.7/dist-packages (from pmdarima>=1.8.0->darts) (0.29.32)\n",
            "Requirement already satisfied: urllib3 in /usr/local/lib/python3.7/dist-packages (from pmdarima>=1.8.0->darts) (1.24.3)\n",
            "Requirement already satisfied: wcwidth in /usr/local/lib/python3.7/dist-packages (from prompt-toolkit<2.1.0,>=2.0.0->ipython>=5.0.0->darts) (0.2.5)\n",
            "Requirement already satisfied: LunarCalendar>=0.0.9 in /usr/local/lib/python3.7/dist-packages (from prophet>=1.1.1->darts) (0.0.9)\n",
            "Requirement already satisfied: setuptools-git>=1.2 in /usr/local/lib/python3.7/dist-packages (from prophet>=1.1.1->darts) (1.2)\n",
            "Requirement already satisfied: wheel>=0.37.0 in /usr/local/lib/python3.7/dist-packages (from prophet>=1.1.1->darts) (0.38.3)\n",
            "Requirement already satisfied: cmdstanpy>=1.0.4 in /usr/local/lib/python3.7/dist-packages (from prophet>=1.1.1->darts) (1.0.8)\n",
            "Requirement already satisfied: ephem>=3.7.5.3 in /usr/local/lib/python3.7/dist-packages (from LunarCalendar>=0.0.9->prophet>=1.1.1->darts) (4.1.3)\n",
            "Requirement already satisfied: torchmetrics>=0.7.0 in /usr/local/lib/python3.7/dist-packages (from pytorch-lightning>=1.5.0->darts) (0.10.2)\n",
            "Requirement already satisfied: PyYAML>=5.4 in /usr/local/lib/python3.7/dist-packages (from pytorch-lightning>=1.5.0->darts) (6.0)\n",
            "Requirement already satisfied: fsspec[http]>2021.06.0 in /usr/local/lib/python3.7/dist-packages (from pytorch-lightning>=1.5.0->darts) (2022.10.0)\n",
            "Requirement already satisfied: lightning-utilities==0.3.* in /usr/local/lib/python3.7/dist-packages (from pytorch-lightning>=1.5.0->darts) (0.3.0)\n",
            "Requirement already satisfied: tensorboard>=2.9.1 in /usr/local/lib/python3.7/dist-packages (from pytorch-lightning>=1.5.0->darts) (2.9.1)\n",
            "Requirement already satisfied: fire in /usr/local/lib/python3.7/dist-packages (from lightning-utilities==0.3.*->pytorch-lightning>=1.5.0->darts) (0.4.0)\n",
            "Requirement already satisfied: aiohttp!=4.0.0a0,!=4.0.0a1 in /usr/local/lib/python3.7/dist-packages (from fsspec[http]>2021.06.0->pytorch-lightning>=1.5.0->darts) (3.8.3)\n",
            "Requirement already satisfied: attrs>=17.3.0 in /usr/local/lib/python3.7/dist-packages (from aiohttp!=4.0.0a0,!=4.0.0a1->fsspec[http]>2021.06.0->pytorch-lightning>=1.5.0->darts) (22.1.0)\n",
            "Requirement already satisfied: yarl<2.0,>=1.0 in /usr/local/lib/python3.7/dist-packages (from aiohttp!=4.0.0a0,!=4.0.0a1->fsspec[http]>2021.06.0->pytorch-lightning>=1.5.0->darts) (1.8.1)\n",
            "Requirement already satisfied: charset-normalizer<3.0,>=2.0 in /usr/local/lib/python3.7/dist-packages (from aiohttp!=4.0.0a0,!=4.0.0a1->fsspec[http]>2021.06.0->pytorch-lightning>=1.5.0->darts) (2.1.1)\n",
            "Requirement already satisfied: multidict<7.0,>=4.5 in /usr/local/lib/python3.7/dist-packages (from aiohttp!=4.0.0a0,!=4.0.0a1->fsspec[http]>2021.06.0->pytorch-lightning>=1.5.0->darts) (6.0.2)\n",
            "Requirement already satisfied: frozenlist>=1.1.1 in /usr/local/lib/python3.7/dist-packages (from aiohttp!=4.0.0a0,!=4.0.0a1->fsspec[http]>2021.06.0->pytorch-lightning>=1.5.0->darts) (1.3.3)\n",
            "Requirement already satisfied: aiosignal>=1.1.2 in /usr/local/lib/python3.7/dist-packages (from aiohttp!=4.0.0a0,!=4.0.0a1->fsspec[http]>2021.06.0->pytorch-lightning>=1.5.0->darts) (1.3.1)\n",
            "Requirement already satisfied: asynctest==0.13.0 in /usr/local/lib/python3.7/dist-packages (from aiohttp!=4.0.0a0,!=4.0.0a1->fsspec[http]>2021.06.0->pytorch-lightning>=1.5.0->darts) (0.13.0)\n",
            "Requirement already satisfied: async-timeout<5.0,>=4.0.0a3 in /usr/local/lib/python3.7/dist-packages (from aiohttp!=4.0.0a0,!=4.0.0a1->fsspec[http]>2021.06.0->pytorch-lightning>=1.5.0->darts) (4.0.2)\n",
            "Requirement already satisfied: chardet<4,>=3.0.2 in /usr/local/lib/python3.7/dist-packages (from requests>=2.22.0->darts) (3.0.4)\n",
            "Requirement already satisfied: idna<3,>=2.5 in /usr/local/lib/python3.7/dist-packages (from requests>=2.22.0->darts) (2.10)\n",
            "Requirement already satisfied: certifi>=2017.4.17 in /usr/local/lib/python3.7/dist-packages (from requests>=2.22.0->darts) (2022.9.24)\n",
            "Requirement already satisfied: threadpoolctl>=2.0.0 in /usr/local/lib/python3.7/dist-packages (from scikit-learn>=1.0.1->darts) (3.1.0)\n",
            "Requirement already satisfied: numba in /usr/local/lib/python3.7/dist-packages (from shap>=0.40.0->darts) (0.56.4)\n",
            "Requirement already satisfied: cloudpickle in /usr/local/lib/python3.7/dist-packages (from shap>=0.40.0->darts) (1.5.0)\n",
            "Requirement already satisfied: slicer==0.0.7 in /usr/local/lib/python3.7/dist-packages (from shap>=0.40.0->darts) (0.0.7)\n",
            "Requirement already satisfied: importlib-metadata in /usr/local/lib/python3.7/dist-packages (from numba->shap>=0.40.0->darts) (4.13.0)\n",
            "Requirement already satisfied: llvmlite<0.40,>=0.39.0dev0 in /usr/local/lib/python3.7/dist-packages (from numba->shap>=0.40.0->darts) (0.39.1)\n",
            "Requirement already satisfied: patsy>=0.5.2 in /usr/local/lib/python3.7/dist-packages (from statsmodels>=0.13.0->darts) (0.5.3)\n",
            "Requirement already satisfied: protobuf<3.20,>=3.9.2 in /usr/local/lib/python3.7/dist-packages (from tensorboard>=2.9.1->pytorch-lightning>=1.5.0->darts) (3.19.6)\n",
            "Requirement already satisfied: google-auth-oauthlib<0.5,>=0.4.1 in /usr/local/lib/python3.7/dist-packages (from tensorboard>=2.9.1->pytorch-lightning>=1.5.0->darts) (0.4.6)\n",
            "Requirement already satisfied: tensorboard-data-server<0.7.0,>=0.6.0 in /usr/local/lib/python3.7/dist-packages (from tensorboard>=2.9.1->pytorch-lightning>=1.5.0->darts) (0.6.1)\n",
            "Requirement already satisfied: werkzeug>=1.0.1 in /usr/local/lib/python3.7/dist-packages (from tensorboard>=2.9.1->pytorch-lightning>=1.5.0->darts) (1.0.1)\n",
            "Requirement already satisfied: tensorboard-plugin-wit>=1.6.0 in /usr/local/lib/python3.7/dist-packages (from tensorboard>=2.9.1->pytorch-lightning>=1.5.0->darts) (1.8.1)\n",
            "Requirement already satisfied: google-auth<3,>=1.6.3 in /usr/local/lib/python3.7/dist-packages (from tensorboard>=2.9.1->pytorch-lightning>=1.5.0->darts) (2.14.1)\n",
            "Requirement already satisfied: markdown>=2.6.8 in /usr/local/lib/python3.7/dist-packages (from tensorboard>=2.9.1->pytorch-lightning>=1.5.0->darts) (3.4.1)\n",
            "Requirement already satisfied: grpcio>=1.24.3 in /usr/local/lib/python3.7/dist-packages (from tensorboard>=2.9.1->pytorch-lightning>=1.5.0->darts) (1.50.0)\n",
            "Requirement already satisfied: absl-py>=0.4 in /usr/local/lib/python3.7/dist-packages (from tensorboard>=2.9.1->pytorch-lightning>=1.5.0->darts) (1.3.0)\n",
            "Requirement already satisfied: pyasn1-modules>=0.2.1 in /usr/local/lib/python3.7/dist-packages (from google-auth<3,>=1.6.3->tensorboard>=2.9.1->pytorch-lightning>=1.5.0->darts) (0.2.8)\n",
            "Requirement already satisfied: cachetools<6.0,>=2.0.0 in /usr/local/lib/python3.7/dist-packages (from google-auth<3,>=1.6.3->tensorboard>=2.9.1->pytorch-lightning>=1.5.0->darts) (5.2.0)\n",
            "Requirement already satisfied: rsa<5,>=3.1.4 in /usr/local/lib/python3.7/dist-packages (from google-auth<3,>=1.6.3->tensorboard>=2.9.1->pytorch-lightning>=1.5.0->darts) (4.9)\n",
            "Requirement already satisfied: requests-oauthlib>=0.7.0 in /usr/local/lib/python3.7/dist-packages (from google-auth-oauthlib<0.5,>=0.4.1->tensorboard>=2.9.1->pytorch-lightning>=1.5.0->darts) (1.3.1)\n",
            "Requirement already satisfied: zipp>=0.5 in /usr/local/lib/python3.7/dist-packages (from importlib-metadata->numba->shap>=0.40.0->darts) (3.10.0)\n",
            "Requirement already satisfied: pyasn1<0.5.0,>=0.4.6 in /usr/local/lib/python3.7/dist-packages (from pyasn1-modules>=0.2.1->google-auth<3,>=1.6.3->tensorboard>=2.9.1->pytorch-lightning>=1.5.0->darts) (0.4.8)\n",
            "Requirement already satisfied: oauthlib>=3.0.0 in /usr/local/lib/python3.7/dist-packages (from requests-oauthlib>=0.7.0->google-auth-oauthlib<0.5,>=0.4.1->tensorboard>=2.9.1->pytorch-lightning>=1.5.0->darts) (3.2.2)\n",
            "Requirement already satisfied: termcolor in /usr/local/lib/python3.7/dist-packages (from fire->lightning-utilities==0.3.*->pytorch-lightning>=1.5.0->darts) (2.1.0)\n",
            "Requirement already satisfied: ptyprocess>=0.5 in /usr/local/lib/python3.7/dist-packages (from pexpect->ipython>=5.0.0->darts) (0.7.0)\n",
            "Requirement already satisfied: tenacity>=6.2.0 in /usr/local/lib/python3.7/dist-packages (from plotly->catboost>=1.0.6->darts) (8.1.0)\n"
          ]
        }
      ]
    },
    {
      "cell_type": "code",
      "source": [
        "import warnings; warnings.simplefilter('ignore'); warnings.filterwarnings('ignore', module='darts'); warnings.filterwarnings('ignore', module='pandas')\n",
        "import numpy as np, darts, sys, pandas as pd\n",
        "from darts import metrics\n",
        "\n",
        "SEED = 0\n"
      ],
      "metadata": {
        "id": "FmTelTSeyh7T"
      },
      "execution_count": 3,
      "outputs": []
    },
    {
      "cell_type": "code",
      "source": [
        "pip install dysts"
      ],
      "metadata": {
        "colab": {
          "base_uri": "https://localhost:8080/"
        },
        "id": "VtV4gfmXyzFQ",
        "outputId": "f7045ee6-3193-42b2-8536-c014eadfa81f"
      },
      "execution_count": 4,
      "outputs": [
        {
          "output_type": "stream",
          "name": "stdout",
          "text": [
            "Looking in indexes: https://pypi.org/simple, https://us-python.pkg.dev/colab-wheels/public/simple/\n",
            "Requirement already satisfied: dysts in /usr/local/lib/python3.7/dist-packages (0.1)\n",
            "Requirement already satisfied: numpy in /usr/local/lib/python3.7/dist-packages (from dysts) (1.21.6)\n",
            "Requirement already satisfied: scipy in /usr/local/lib/python3.7/dist-packages (from dysts) (1.7.3)\n"
          ]
        }
      ]
    },
    {
      "cell_type": "code",
      "source": [
        "from dysts.datasets import load_dataset\n",
        "\n",
        "data = 'Sakarya'\n",
        "train_ = load_dataset(subsets=\"train\", data_format=\"pandas\", univariate=False).loc[data]\n",
        "test_ = load_dataset(subsets=\"test\", data_format=\"pandas\", univariate=False).loc[data] #kenapa dibagi disini pada di bawah juga dibagi lagi, apakah memang sudah dari sananya dibagi\n",
        "\n",
        "df = pd.concat([train_, test_], axis=0).reset_index()\n",
        "# Hati-hati versi terbaru harus \"reset_index\" kalau ndak cell selanjutnya error\n",
        "print(df.shape)\n",
        "df.head() "
      ],
      "metadata": {
        "colab": {
          "base_uri": "https://localhost:8080/",
          "height": 224
        },
        "id": "etgNbLyZzcZN",
        "outputId": "6dd77caa-4273-4edf-97d6-73d12a91df4a"
      },
      "execution_count": 5,
      "outputs": [
        {
          "output_type": "stream",
          "name": "stdout",
          "text": [
            "(2000, 13)\n"
          ]
        },
        {
          "output_type": "execute_result",
          "data": {
            "text/plain": [
              "     index    id      time  values_0  values_1  values_2  values_3  values_4  \\\n",
              "0  Sakarya  89.0  0.000000  0.509628 -1.742051  1.219323       0.0       0.0   \n",
              "1  Sakarya  89.0  0.049886  0.212319 -1.600700  1.410919       0.0       0.0   \n",
              "2  Sakarya  89.0  0.099771 -0.067432 -1.516614  1.540370       0.0       0.0   \n",
              "3  Sakarya  89.0  0.149657 -0.333769 -1.493272  1.615232       0.0       0.0   \n",
              "4  Sakarya  89.0  0.199542 -0.593283 -1.529812  1.635646       0.0       0.0   \n",
              "\n",
              "   values_5  values_6  values_7  values_8  values_9  \n",
              "0       0.0       0.0       0.0       0.0       0.0  \n",
              "1       0.0       0.0       0.0       0.0       0.0  \n",
              "2       0.0       0.0       0.0       0.0       0.0  \n",
              "3       0.0       0.0       0.0       0.0       0.0  \n",
              "4       0.0       0.0       0.0       0.0       0.0  "
            ],
            "text/html": [
              "\n",
              "  <div id=\"df-b6468b31-0c9a-4717-bba5-90084d2ce917\">\n",
              "    <div class=\"colab-df-container\">\n",
              "      <div>\n",
              "<style scoped>\n",
              "    .dataframe tbody tr th:only-of-type {\n",
              "        vertical-align: middle;\n",
              "    }\n",
              "\n",
              "    .dataframe tbody tr th {\n",
              "        vertical-align: top;\n",
              "    }\n",
              "\n",
              "    .dataframe thead th {\n",
              "        text-align: right;\n",
              "    }\n",
              "</style>\n",
              "<table border=\"1\" class=\"dataframe\">\n",
              "  <thead>\n",
              "    <tr style=\"text-align: right;\">\n",
              "      <th></th>\n",
              "      <th>index</th>\n",
              "      <th>id</th>\n",
              "      <th>time</th>\n",
              "      <th>values_0</th>\n",
              "      <th>values_1</th>\n",
              "      <th>values_2</th>\n",
              "      <th>values_3</th>\n",
              "      <th>values_4</th>\n",
              "      <th>values_5</th>\n",
              "      <th>values_6</th>\n",
              "      <th>values_7</th>\n",
              "      <th>values_8</th>\n",
              "      <th>values_9</th>\n",
              "    </tr>\n",
              "  </thead>\n",
              "  <tbody>\n",
              "    <tr>\n",
              "      <th>0</th>\n",
              "      <td>Sakarya</td>\n",
              "      <td>89.0</td>\n",
              "      <td>0.000000</td>\n",
              "      <td>0.509628</td>\n",
              "      <td>-1.742051</td>\n",
              "      <td>1.219323</td>\n",
              "      <td>0.0</td>\n",
              "      <td>0.0</td>\n",
              "      <td>0.0</td>\n",
              "      <td>0.0</td>\n",
              "      <td>0.0</td>\n",
              "      <td>0.0</td>\n",
              "      <td>0.0</td>\n",
              "    </tr>\n",
              "    <tr>\n",
              "      <th>1</th>\n",
              "      <td>Sakarya</td>\n",
              "      <td>89.0</td>\n",
              "      <td>0.049886</td>\n",
              "      <td>0.212319</td>\n",
              "      <td>-1.600700</td>\n",
              "      <td>1.410919</td>\n",
              "      <td>0.0</td>\n",
              "      <td>0.0</td>\n",
              "      <td>0.0</td>\n",
              "      <td>0.0</td>\n",
              "      <td>0.0</td>\n",
              "      <td>0.0</td>\n",
              "      <td>0.0</td>\n",
              "    </tr>\n",
              "    <tr>\n",
              "      <th>2</th>\n",
              "      <td>Sakarya</td>\n",
              "      <td>89.0</td>\n",
              "      <td>0.099771</td>\n",
              "      <td>-0.067432</td>\n",
              "      <td>-1.516614</td>\n",
              "      <td>1.540370</td>\n",
              "      <td>0.0</td>\n",
              "      <td>0.0</td>\n",
              "      <td>0.0</td>\n",
              "      <td>0.0</td>\n",
              "      <td>0.0</td>\n",
              "      <td>0.0</td>\n",
              "      <td>0.0</td>\n",
              "    </tr>\n",
              "    <tr>\n",
              "      <th>3</th>\n",
              "      <td>Sakarya</td>\n",
              "      <td>89.0</td>\n",
              "      <td>0.149657</td>\n",
              "      <td>-0.333769</td>\n",
              "      <td>-1.493272</td>\n",
              "      <td>1.615232</td>\n",
              "      <td>0.0</td>\n",
              "      <td>0.0</td>\n",
              "      <td>0.0</td>\n",
              "      <td>0.0</td>\n",
              "      <td>0.0</td>\n",
              "      <td>0.0</td>\n",
              "      <td>0.0</td>\n",
              "    </tr>\n",
              "    <tr>\n",
              "      <th>4</th>\n",
              "      <td>Sakarya</td>\n",
              "      <td>89.0</td>\n",
              "      <td>0.199542</td>\n",
              "      <td>-0.593283</td>\n",
              "      <td>-1.529812</td>\n",
              "      <td>1.635646</td>\n",
              "      <td>0.0</td>\n",
              "      <td>0.0</td>\n",
              "      <td>0.0</td>\n",
              "      <td>0.0</td>\n",
              "      <td>0.0</td>\n",
              "      <td>0.0</td>\n",
              "      <td>0.0</td>\n",
              "    </tr>\n",
              "  </tbody>\n",
              "</table>\n",
              "</div>\n",
              "      <button class=\"colab-df-convert\" onclick=\"convertToInteractive('df-b6468b31-0c9a-4717-bba5-90084d2ce917')\"\n",
              "              title=\"Convert this dataframe to an interactive table.\"\n",
              "              style=\"display:none;\">\n",
              "        \n",
              "  <svg xmlns=\"http://www.w3.org/2000/svg\" height=\"24px\"viewBox=\"0 0 24 24\"\n",
              "       width=\"24px\">\n",
              "    <path d=\"M0 0h24v24H0V0z\" fill=\"none\"/>\n",
              "    <path d=\"M18.56 5.44l.94 2.06.94-2.06 2.06-.94-2.06-.94-.94-2.06-.94 2.06-2.06.94zm-11 1L8.5 8.5l.94-2.06 2.06-.94-2.06-.94L8.5 2.5l-.94 2.06-2.06.94zm10 10l.94 2.06.94-2.06 2.06-.94-2.06-.94-.94-2.06-.94 2.06-2.06.94z\"/><path d=\"M17.41 7.96l-1.37-1.37c-.4-.4-.92-.59-1.43-.59-.52 0-1.04.2-1.43.59L10.3 9.45l-7.72 7.72c-.78.78-.78 2.05 0 2.83L4 21.41c.39.39.9.59 1.41.59.51 0 1.02-.2 1.41-.59l7.78-7.78 2.81-2.81c.8-.78.8-2.07 0-2.86zM5.41 20L4 18.59l7.72-7.72 1.47 1.35L5.41 20z\"/>\n",
              "  </svg>\n",
              "      </button>\n",
              "      \n",
              "  <style>\n",
              "    .colab-df-container {\n",
              "      display:flex;\n",
              "      flex-wrap:wrap;\n",
              "      gap: 12px;\n",
              "    }\n",
              "\n",
              "    .colab-df-convert {\n",
              "      background-color: #E8F0FE;\n",
              "      border: none;\n",
              "      border-radius: 50%;\n",
              "      cursor: pointer;\n",
              "      display: none;\n",
              "      fill: #1967D2;\n",
              "      height: 32px;\n",
              "      padding: 0 0 0 0;\n",
              "      width: 32px;\n",
              "    }\n",
              "\n",
              "    .colab-df-convert:hover {\n",
              "      background-color: #E2EBFA;\n",
              "      box-shadow: 0px 1px 2px rgba(60, 64, 67, 0.3), 0px 1px 3px 1px rgba(60, 64, 67, 0.15);\n",
              "      fill: #174EA6;\n",
              "    }\n",
              "\n",
              "    [theme=dark] .colab-df-convert {\n",
              "      background-color: #3B4455;\n",
              "      fill: #D2E3FC;\n",
              "    }\n",
              "\n",
              "    [theme=dark] .colab-df-convert:hover {\n",
              "      background-color: #434B5C;\n",
              "      box-shadow: 0px 1px 3px 1px rgba(0, 0, 0, 0.15);\n",
              "      filter: drop-shadow(0px 1px 2px rgba(0, 0, 0, 0.3));\n",
              "      fill: #FFFFFF;\n",
              "    }\n",
              "  </style>\n",
              "\n",
              "      <script>\n",
              "        const buttonEl =\n",
              "          document.querySelector('#df-b6468b31-0c9a-4717-bba5-90084d2ce917 button.colab-df-convert');\n",
              "        buttonEl.style.display =\n",
              "          google.colab.kernel.accessAllowed ? 'block' : 'none';\n",
              "\n",
              "        async function convertToInteractive(key) {\n",
              "          const element = document.querySelector('#df-b6468b31-0c9a-4717-bba5-90084d2ce917');\n",
              "          const dataTable =\n",
              "            await google.colab.kernel.invokeFunction('convertToInteractive',\n",
              "                                                     [key], {});\n",
              "          if (!dataTable) return;\n",
              "\n",
              "          const docLinkHtml = 'Like what you see? Visit the ' +\n",
              "            '<a target=\"_blank\" href=https://colab.research.google.com/notebooks/data_table.ipynb>data table notebook</a>'\n",
              "            + ' to learn more about interactive tables.';\n",
              "          element.innerHTML = '';\n",
              "          dataTable['output_type'] = 'display_data';\n",
              "          await google.colab.output.renderOutput(dataTable, element);\n",
              "          const docLink = document.createElement('div');\n",
              "          docLink.innerHTML = docLinkHtml;\n",
              "          element.appendChild(docLink);\n",
              "        }\n",
              "      </script>\n",
              "    </div>\n",
              "  </div>\n",
              "  "
            ]
          },
          "metadata": {},
          "execution_count": 5
        }
      ]
    },
    {
      "cell_type": "code",
      "source": [
        "print(df.isnull().sum())"
      ],
      "metadata": {
        "colab": {
          "base_uri": "https://localhost:8080/"
        },
        "id": "bVv-z7gS69Bq",
        "outputId": "8ad1641c-4131-4a30-9cdf-53456c3a3197"
      },
      "execution_count": 6,
      "outputs": [
        {
          "output_type": "stream",
          "name": "stdout",
          "text": [
            "index       0\n",
            "id          0\n",
            "time        0\n",
            "values_0    0\n",
            "values_1    0\n",
            "values_2    0\n",
            "values_3    0\n",
            "values_4    0\n",
            "values_5    0\n",
            "values_6    0\n",
            "values_7    0\n",
            "values_8    0\n",
            "values_9    0\n",
            "dtype: int64\n"
          ]
        }
      ]
    },
    {
      "cell_type": "code",
      "source": [
        "df.describe()"
      ],
      "metadata": {
        "colab": {
          "base_uri": "https://localhost:8080/",
          "height": 300
        },
        "id": "hwO-tRl00YPF",
        "outputId": "519c9ccb-a3a1-492f-9b9c-f2f945eea815"
      },
      "execution_count": 7,
      "outputs": [
        {
          "output_type": "execute_result",
          "data": {
            "text/plain": [
              "           id         time      values_0      values_1      values_2  \\\n",
              "count  2000.0  2000.000000  2.000000e+03  2.000000e+03  2.000000e+03   \n",
              "mean     89.0    24.917843 -1.225686e-16 -1.421085e-17  9.174883e-16   \n",
              "std       0.0    14.404318  1.000250e+00  1.000250e+00  1.000250e+00   \n",
              "min      89.0     0.000000 -3.007253e+00 -3.377478e+00 -3.700817e+00   \n",
              "25%      89.0    12.458921 -7.106713e-01 -6.076109e-01 -6.012374e-01   \n",
              "50%      89.0    24.917843 -5.381439e-02 -1.456247e-01  5.508101e-02   \n",
              "75%      89.0    37.376764  7.586488e-01  7.632252e-01  6.175902e-01   \n",
              "max      89.0    49.835686  2.950681e+00  3.391711e+00  3.210621e+00   \n",
              "\n",
              "       values_3  values_4  values_5  values_6  values_7  values_8  values_9  \n",
              "count    2000.0    2000.0    2000.0    2000.0    2000.0    2000.0    2000.0  \n",
              "mean        0.0       0.0       0.0       0.0       0.0       0.0       0.0  \n",
              "std         0.0       0.0       0.0       0.0       0.0       0.0       0.0  \n",
              "min         0.0       0.0       0.0       0.0       0.0       0.0       0.0  \n",
              "25%         0.0       0.0       0.0       0.0       0.0       0.0       0.0  \n",
              "50%         0.0       0.0       0.0       0.0       0.0       0.0       0.0  \n",
              "75%         0.0       0.0       0.0       0.0       0.0       0.0       0.0  \n",
              "max         0.0       0.0       0.0       0.0       0.0       0.0       0.0  "
            ],
            "text/html": [
              "\n",
              "  <div id=\"df-ae9025f1-2647-440f-99ae-b4f9bd2d99bb\">\n",
              "    <div class=\"colab-df-container\">\n",
              "      <div>\n",
              "<style scoped>\n",
              "    .dataframe tbody tr th:only-of-type {\n",
              "        vertical-align: middle;\n",
              "    }\n",
              "\n",
              "    .dataframe tbody tr th {\n",
              "        vertical-align: top;\n",
              "    }\n",
              "\n",
              "    .dataframe thead th {\n",
              "        text-align: right;\n",
              "    }\n",
              "</style>\n",
              "<table border=\"1\" class=\"dataframe\">\n",
              "  <thead>\n",
              "    <tr style=\"text-align: right;\">\n",
              "      <th></th>\n",
              "      <th>id</th>\n",
              "      <th>time</th>\n",
              "      <th>values_0</th>\n",
              "      <th>values_1</th>\n",
              "      <th>values_2</th>\n",
              "      <th>values_3</th>\n",
              "      <th>values_4</th>\n",
              "      <th>values_5</th>\n",
              "      <th>values_6</th>\n",
              "      <th>values_7</th>\n",
              "      <th>values_8</th>\n",
              "      <th>values_9</th>\n",
              "    </tr>\n",
              "  </thead>\n",
              "  <tbody>\n",
              "    <tr>\n",
              "      <th>count</th>\n",
              "      <td>2000.0</td>\n",
              "      <td>2000.000000</td>\n",
              "      <td>2.000000e+03</td>\n",
              "      <td>2.000000e+03</td>\n",
              "      <td>2.000000e+03</td>\n",
              "      <td>2000.0</td>\n",
              "      <td>2000.0</td>\n",
              "      <td>2000.0</td>\n",
              "      <td>2000.0</td>\n",
              "      <td>2000.0</td>\n",
              "      <td>2000.0</td>\n",
              "      <td>2000.0</td>\n",
              "    </tr>\n",
              "    <tr>\n",
              "      <th>mean</th>\n",
              "      <td>89.0</td>\n",
              "      <td>24.917843</td>\n",
              "      <td>-1.225686e-16</td>\n",
              "      <td>-1.421085e-17</td>\n",
              "      <td>9.174883e-16</td>\n",
              "      <td>0.0</td>\n",
              "      <td>0.0</td>\n",
              "      <td>0.0</td>\n",
              "      <td>0.0</td>\n",
              "      <td>0.0</td>\n",
              "      <td>0.0</td>\n",
              "      <td>0.0</td>\n",
              "    </tr>\n",
              "    <tr>\n",
              "      <th>std</th>\n",
              "      <td>0.0</td>\n",
              "      <td>14.404318</td>\n",
              "      <td>1.000250e+00</td>\n",
              "      <td>1.000250e+00</td>\n",
              "      <td>1.000250e+00</td>\n",
              "      <td>0.0</td>\n",
              "      <td>0.0</td>\n",
              "      <td>0.0</td>\n",
              "      <td>0.0</td>\n",
              "      <td>0.0</td>\n",
              "      <td>0.0</td>\n",
              "      <td>0.0</td>\n",
              "    </tr>\n",
              "    <tr>\n",
              "      <th>min</th>\n",
              "      <td>89.0</td>\n",
              "      <td>0.000000</td>\n",
              "      <td>-3.007253e+00</td>\n",
              "      <td>-3.377478e+00</td>\n",
              "      <td>-3.700817e+00</td>\n",
              "      <td>0.0</td>\n",
              "      <td>0.0</td>\n",
              "      <td>0.0</td>\n",
              "      <td>0.0</td>\n",
              "      <td>0.0</td>\n",
              "      <td>0.0</td>\n",
              "      <td>0.0</td>\n",
              "    </tr>\n",
              "    <tr>\n",
              "      <th>25%</th>\n",
              "      <td>89.0</td>\n",
              "      <td>12.458921</td>\n",
              "      <td>-7.106713e-01</td>\n",
              "      <td>-6.076109e-01</td>\n",
              "      <td>-6.012374e-01</td>\n",
              "      <td>0.0</td>\n",
              "      <td>0.0</td>\n",
              "      <td>0.0</td>\n",
              "      <td>0.0</td>\n",
              "      <td>0.0</td>\n",
              "      <td>0.0</td>\n",
              "      <td>0.0</td>\n",
              "    </tr>\n",
              "    <tr>\n",
              "      <th>50%</th>\n",
              "      <td>89.0</td>\n",
              "      <td>24.917843</td>\n",
              "      <td>-5.381439e-02</td>\n",
              "      <td>-1.456247e-01</td>\n",
              "      <td>5.508101e-02</td>\n",
              "      <td>0.0</td>\n",
              "      <td>0.0</td>\n",
              "      <td>0.0</td>\n",
              "      <td>0.0</td>\n",
              "      <td>0.0</td>\n",
              "      <td>0.0</td>\n",
              "      <td>0.0</td>\n",
              "    </tr>\n",
              "    <tr>\n",
              "      <th>75%</th>\n",
              "      <td>89.0</td>\n",
              "      <td>37.376764</td>\n",
              "      <td>7.586488e-01</td>\n",
              "      <td>7.632252e-01</td>\n",
              "      <td>6.175902e-01</td>\n",
              "      <td>0.0</td>\n",
              "      <td>0.0</td>\n",
              "      <td>0.0</td>\n",
              "      <td>0.0</td>\n",
              "      <td>0.0</td>\n",
              "      <td>0.0</td>\n",
              "      <td>0.0</td>\n",
              "    </tr>\n",
              "    <tr>\n",
              "      <th>max</th>\n",
              "      <td>89.0</td>\n",
              "      <td>49.835686</td>\n",
              "      <td>2.950681e+00</td>\n",
              "      <td>3.391711e+00</td>\n",
              "      <td>3.210621e+00</td>\n",
              "      <td>0.0</td>\n",
              "      <td>0.0</td>\n",
              "      <td>0.0</td>\n",
              "      <td>0.0</td>\n",
              "      <td>0.0</td>\n",
              "      <td>0.0</td>\n",
              "      <td>0.0</td>\n",
              "    </tr>\n",
              "  </tbody>\n",
              "</table>\n",
              "</div>\n",
              "      <button class=\"colab-df-convert\" onclick=\"convertToInteractive('df-ae9025f1-2647-440f-99ae-b4f9bd2d99bb')\"\n",
              "              title=\"Convert this dataframe to an interactive table.\"\n",
              "              style=\"display:none;\">\n",
              "        \n",
              "  <svg xmlns=\"http://www.w3.org/2000/svg\" height=\"24px\"viewBox=\"0 0 24 24\"\n",
              "       width=\"24px\">\n",
              "    <path d=\"M0 0h24v24H0V0z\" fill=\"none\"/>\n",
              "    <path d=\"M18.56 5.44l.94 2.06.94-2.06 2.06-.94-2.06-.94-.94-2.06-.94 2.06-2.06.94zm-11 1L8.5 8.5l.94-2.06 2.06-.94-2.06-.94L8.5 2.5l-.94 2.06-2.06.94zm10 10l.94 2.06.94-2.06 2.06-.94-2.06-.94-.94-2.06-.94 2.06-2.06.94z\"/><path d=\"M17.41 7.96l-1.37-1.37c-.4-.4-.92-.59-1.43-.59-.52 0-1.04.2-1.43.59L10.3 9.45l-7.72 7.72c-.78.78-.78 2.05 0 2.83L4 21.41c.39.39.9.59 1.41.59.51 0 1.02-.2 1.41-.59l7.78-7.78 2.81-2.81c.8-.78.8-2.07 0-2.86zM5.41 20L4 18.59l7.72-7.72 1.47 1.35L5.41 20z\"/>\n",
              "  </svg>\n",
              "      </button>\n",
              "      \n",
              "  <style>\n",
              "    .colab-df-container {\n",
              "      display:flex;\n",
              "      flex-wrap:wrap;\n",
              "      gap: 12px;\n",
              "    }\n",
              "\n",
              "    .colab-df-convert {\n",
              "      background-color: #E8F0FE;\n",
              "      border: none;\n",
              "      border-radius: 50%;\n",
              "      cursor: pointer;\n",
              "      display: none;\n",
              "      fill: #1967D2;\n",
              "      height: 32px;\n",
              "      padding: 0 0 0 0;\n",
              "      width: 32px;\n",
              "    }\n",
              "\n",
              "    .colab-df-convert:hover {\n",
              "      background-color: #E2EBFA;\n",
              "      box-shadow: 0px 1px 2px rgba(60, 64, 67, 0.3), 0px 1px 3px 1px rgba(60, 64, 67, 0.15);\n",
              "      fill: #174EA6;\n",
              "    }\n",
              "\n",
              "    [theme=dark] .colab-df-convert {\n",
              "      background-color: #3B4455;\n",
              "      fill: #D2E3FC;\n",
              "    }\n",
              "\n",
              "    [theme=dark] .colab-df-convert:hover {\n",
              "      background-color: #434B5C;\n",
              "      box-shadow: 0px 1px 3px 1px rgba(0, 0, 0, 0.15);\n",
              "      filter: drop-shadow(0px 1px 2px rgba(0, 0, 0, 0.3));\n",
              "      fill: #FFFFFF;\n",
              "    }\n",
              "  </style>\n",
              "\n",
              "      <script>\n",
              "        const buttonEl =\n",
              "          document.querySelector('#df-ae9025f1-2647-440f-99ae-b4f9bd2d99bb button.colab-df-convert');\n",
              "        buttonEl.style.display =\n",
              "          google.colab.kernel.accessAllowed ? 'block' : 'none';\n",
              "\n",
              "        async function convertToInteractive(key) {\n",
              "          const element = document.querySelector('#df-ae9025f1-2647-440f-99ae-b4f9bd2d99bb');\n",
              "          const dataTable =\n",
              "            await google.colab.kernel.invokeFunction('convertToInteractive',\n",
              "                                                     [key], {});\n",
              "          if (!dataTable) return;\n",
              "\n",
              "          const docLinkHtml = 'Like what you see? Visit the ' +\n",
              "            '<a target=\"_blank\" href=https://colab.research.google.com/notebooks/data_table.ipynb>data table notebook</a>'\n",
              "            + ' to learn more about interactive tables.';\n",
              "          element.innerHTML = '';\n",
              "          dataTable['output_type'] = 'display_data';\n",
              "          await google.colab.output.renderOutput(dataTable, element);\n",
              "          const docLink = document.createElement('div');\n",
              "          docLink.innerHTML = docLinkHtml;\n",
              "          element.appendChild(docLink);\n",
              "        }\n",
              "      </script>\n",
              "    </div>\n",
              "  </div>\n",
              "  "
            ]
          },
          "metadata": {},
          "execution_count": 7
        }
      ]
    },
    {
      "cell_type": "code",
      "source": [
        "plt.figure(figsize = (10, 6))\n",
        "plt.axvline(df['values_0'].describe()['mean'], color = 'red', label = 'mean')\n",
        "plt.axvline(df['values_0'].describe()['50%'], color = 'yellow', label = 'median')\n",
        "sns.distplot(df['values_0'])\n",
        "plt.legend()"
      ],
      "metadata": {
        "colab": {
          "base_uri": "https://localhost:8080/",
          "height": 411
        },
        "id": "Gc2DZ9V-3SwE",
        "outputId": "bcc56bde-eff5-4370-b470-51ad69d8eaef"
      },
      "execution_count": 8,
      "outputs": [
        {
          "output_type": "execute_result",
          "data": {
            "text/plain": [
              "<matplotlib.legend.Legend at 0x7f32b6d2ab10>"
            ]
          },
          "metadata": {},
          "execution_count": 8
        },
        {
          "output_type": "display_data",
          "data": {
            "text/plain": [
              "<Figure size 720x432 with 1 Axes>"
            ],
            "image/png": "[encoded data removed]"
          },
          "metadata": {}
        }
      ]
    },
    {
      "cell_type": "code",
      "source": [
        "plt.figure(figsize = (10, 5))\n",
        "sns.boxplot(df['values_0'])\n",
        "plt.axvline(df['values_0'].describe()['25%'], color = 'red', label = 'Q1')\n",
        "plt.axvline(df['values_0'].describe()['50%'], color = 'yellow', label = 'Q2')\n",
        "plt.axvline(df['values_0'].describe()['75%'], color = 'blue', label = 'Q3')\n",
        "plt.annotate('Outlier', (df['values_0'].describe()['max'],0.1), xytext = (df['values_0'].describe()['max'],0.3),\n",
        "             arrowprops = dict(facecolor = 'blue'), fontsize = 13 )\n",
        "IQR = df['values_0'].describe()['75%'] - df['values_0'].describe()['25%']\n",
        "plt.annotate('Batas Atas', (df['values_0'].describe()['75%'] + 1.5*IQR, 0.2), \n",
        "             xytext = (df['values_0'].describe()['75%'] + 1.5*IQR, 0.4),\n",
        "             arrowprops = dict(facecolor = 'blue'), fontsize = 13 )\n",
        "plt.annotate('Batas Bawah', (df['values_0'].describe()['min'], 0.2), \n",
        "             xytext = (df['values_0'].describe()['min'], 0.4),\n",
        "             arrowprops = dict(facecolor = 'blue'), fontsize = 13 )\n",
        "plt.legend()"
      ],
      "metadata": {
        "colab": {
          "base_uri": "https://localhost:8080/",
          "height": 356
        },
        "id": "N2TfaaE0CQ6W",
        "outputId": "71a8f2bc-5cf3-4863-bc3d-ea911a5cf931"
      },
      "execution_count": 9,
      "outputs": [
        {
          "output_type": "execute_result",
          "data": {
            "text/plain": [
              "<matplotlib.legend.Legend at 0x7f32b5806f10>"
            ]
          },
          "metadata": {},
          "execution_count": 9
        },
        {
          "output_type": "display_data",
          "data": {
            "text/plain": [
              "<Figure size 720x360 with 1 Axes>"
            ],
            "image/png": "[encoded data removed]"
          },
          "metadata": {}
        }
      ]
    },
    {
      "cell_type": "code",
      "source": [
        "pip install nolds"
      ],
      "metadata": {
        "colab": {
          "base_uri": "https://localhost:8080/"
        },
        "id": "PDh70uzNLesj",
        "outputId": "9ec390f6-2f76-4f6d-e9ef-7839d0667b68"
      },
      "execution_count": 10,
      "outputs": [
        {
          "output_type": "stream",
          "name": "stdout",
          "text": [
            "Looking in indexes: https://pypi.org/simple, https://us-python.pkg.dev/colab-wheels/public/simple/\n",
            "Requirement already satisfied: nolds in /usr/local/lib/python3.7/dist-packages (0.5.2)\n",
            "Requirement already satisfied: setuptools in /usr/local/lib/python3.7/dist-packages (from nolds) (57.4.0)\n",
            "Requirement already satisfied: numpy in /usr/local/lib/python3.7/dist-packages (from nolds) (1.21.6)\n",
            "Requirement already satisfied: future in /usr/local/lib/python3.7/dist-packages (from nolds) (0.16.0)\n"
          ]
        }
      ]
    },
    {
      "cell_type": "code",
      "source": [
        "import nolds\n",
        "import numpy as np\n",
        "import matplotlib.pyplot as plt"
      ],
      "metadata": {
        "id": "Pg4ZmfS_MC46"
      },
      "execution_count": 11,
      "outputs": []
    },
    {
      "cell_type": "code",
      "source": [
        "pip install plotly"
      ],
      "metadata": {
        "colab": {
          "base_uri": "https://localhost:8080/"
        },
        "id": "zjtXZhRCeMi5",
        "outputId": "1312eba4-216a-4b95-abc1-95ab6cfcde33"
      },
      "execution_count": 17,
      "outputs": [
        {
          "output_type": "stream",
          "name": "stdout",
          "text": [
            "Looking in indexes: https://pypi.org/simple, https://us-python.pkg.dev/colab-wheels/public/simple/\n",
            "Requirement already satisfied: plotly in /usr/local/lib/python3.7/dist-packages (5.5.0)\n",
            "Requirement already satisfied: tenacity>=6.2.0 in /usr/local/lib/python3.7/dist-packages (from plotly) (8.1.0)\n",
            "Requirement already satisfied: six in /usr/local/lib/python3.7/dist-packages (from plotly) (1.15.0)\n"
          ]
        }
      ]
    },
    {
      "cell_type": "code",
      "source": [
        "import plotly.graph_objects as go\n",
        "import numpy as np \n",
        "import pandas as pd \n",
        "import plotly.express as px"
      ],
      "metadata": {
        "id": "KPtfz8uoddZK"
      },
      "execution_count": 22,
      "outputs": []
    },
    {
      "cell_type": "code",
      "source": [
        "fig = px.line(df, x='time', y='values_0', color='id')\n",
        "fig.show()"
      ],
      "metadata": {
        "colab": {
          "base_uri": "https://localhost:8080/",
          "height": 542
        },
        "id": "cX1BeMUZPAiw",
        "outputId": "4d971c70-6e52-4043-ce06-9d101ccbebb3"
      },
      "execution_count": 25,
      "outputs": [
        {
          "output_type": "display_data",
          "data": {
            "text/html": [
              "<html>\n",
              "<head><meta charset=\"utf-8\" /></head>\n",
              "<body>\n",
              "    <div>            <script src=\"https://cdnjs.cloudflare.com/ajax/libs/mathjax/2.7.5/MathJax.js?config=TeX-AMS-MML_SVG\"></script><script type=\"text/javascript\">if (window.MathJax) {MathJax.Hub.Config({SVG: {font: \"STIX-Web\"}});}</script>                <script type=\"text/javascript\">window.PlotlyConfig = {MathJaxConfig: 'local'};</script>\n",
              "        <script src=\"https://cdn.plot.ly/plotly-2.8.3.min.js\"></script>                <div id=\"aeba1779-bc66-4f8f-8535-85558dd60371\" class=\"plotly-graph-div\" style=\"height:525px; width:100%;\"></div>            <script type=\"text/javascript\">                                    window.PLOTLYENV=window.PLOTLYENV || {};                                    if (document.getElementById(\"aeba1779-bc66-4f8f-8535-85558dd60371\")) {                    Plotly.newPlot(                        \"aeba1779-bc66-4f8f-8535-85558dd60371\",                        [{\"hovertemplate\":\"id=89.0<br>time=%{x}<br>values_0=%{y}<extra></extra>\",\"legendgroup\":\"89.0\",\"line\":{\"color\":\"#636efa\",\"dash\":\"solid\"},\"marker\":{\"symbol\":\"circle\"},\"mode\":\"lines\",\"name\":\"89.0\",\"showlegend\":true,\"x\":[0.0,0.04988557130942452,0.09977114261884903,0.14965671392827357,0.19954228523769807,0.24942785654712257,0.29931342785654713,0.34919899916597164,0.39908457047539614,0.44897014178482064,0.49885571309424515,0.5487412844036696,0.5986268557130943,0.6485124270225188,0.6983979983319433,0.7482835696413678,0.7981691409507923,0.8480547122602168,0.8979402835696413,0.9478258548790658,0.9977114261884903,1.047596997497915,1.0974825688073393,1.147368140116764,1.1972537114261885,1.247139282735613,1.2970248540450375,1.346910425354462,1.3967959966638865,1.446681567973311,1.4965671392827355,1.54645271059216,1.5963382819015846,1.6462238532110092,1.6961094245204336,1.7459949958298582,1.7958805671392826,1.8457661384487072,1.8956517097581316,1.9455372810675562,1.9954228523769806,2.0453084236864054,2.09519399499583,2.145079566305254,2.1949651376146786,2.2448507089241034,2.294736280233528,2.344621851542952,2.394507422852377,2.4443929941618014,2.494278565471226,2.5441641367806502,2.594049708090075,2.6439352793994995,2.693820850708924,2.7437064220183482,2.793591993327773,2.8434775646371975,2.893363135946622,2.9432487072560467,2.993134278565471,3.0430198498748955,3.09290542118432,3.1427909924937447,3.192676563803169,3.2425621351125935,3.2924477064220183,3.3423332777314427,3.392218849040867,3.4421044203502915,3.4919899916597164,3.5418755629691407,3.591761134278565,3.64164670558799,3.6915322768974144,3.7414178482068388,3.791303419516263,3.841188990825688,3.8910745621351124,3.9409601334445368,3.990845704753961,4.040731276063386,4.090616847372811,4.140502418682235,4.19038798999166,4.240273561301084,4.290159132610508,4.340044703919933,4.389930275229357,4.4398158465387825,4.489701417848207,4.539586989157631,4.589472560467056,4.63935813177648,4.689243703085904,4.739129274395329,4.789014845704754,4.8389004170141785,4.888785988323603,4.938671559633027,4.988557130942452,5.038442702251876,5.0883282735613005,5.138213844870725,5.18809941618015,5.2379849874895745,5.287870558798999,5.337756130108423,5.387641701417848,5.437527272727272,5.4874128440366965,5.537298415346122,5.587183986655546,5.637069557964971,5.686955129274395,5.736840700583819,5.786726271893244,5.836611843202668,5.886497414512093,5.936382985821518,5.986268557130942,6.036154128440367,6.086039699749791,6.135925271059215,6.18581084236864,6.235696413678065,6.285581984987489,6.335467556296914,6.385353127606338,6.435238698915763,6.485124270225187,6.535009841534611,6.584895412844037,6.634780984153461,6.6846665554628855,6.73455212677231,6.784437698081734,6.834323269391159,6.884208840700583,6.934094412010008,6.983979983319433,7.033865554628857,7.0837511259382815,7.133636697247706,7.18352226855713,7.233407839866555,7.28329341117598,7.333178982485404,7.383064553794829,7.432950125104253,7.4828356964136775,7.532721267723102,7.582606839032526,7.632492410341952,7.682377981651376,7.7322635529608,7.782149124270225,7.832034695579649,7.8819202668890735,7.931805838198498,7.981691409507922,8.031576980817347,8.081462552126771,8.131348123436196,8.181233694745622,8.231119266055046,8.28100483736447,8.330890408673895,8.38077597998332,8.430661551292744,8.480547122602168,8.530432693911592,8.580318265221017,8.630203836530441,8.680089407839866,8.72997497914929,8.779860550458714,8.829746121768139,8.879631693077565,8.92951726438699,8.979402835696414,9.029288407005838,9.079173978315263,9.129059549624687,9.178945120934111,9.228830692243536,9.27871626355296,9.328601834862384,9.378487406171809,9.428372977481233,9.478258548790658,9.528144120100082,9.578029691409508,9.627915262718933,9.677800834028357,9.727686405337781,9.777571976647206,9.82745754795663,9.877343119266055,9.927228690575479,9.977114261884903,10.026999833194328,10.076885404503752,10.126770975813177,10.176656547122601,10.226542118432025,10.27642768974145,10.326313261050876,10.3761988323603,10.426084403669725,10.475969974979149,10.525855546288573,10.575741117597998,10.625626688907422,10.675512260216847,10.725397831526271,10.775283402835695,10.82516897414512,10.875054545454544,10.924940116763969,10.974825688073393,11.02471125938282,11.074596830692244,11.124482402001668,11.174367973311092,11.224253544620517,11.274139115929941,11.324024687239366,11.37391025854879,11.423795829858214,11.473681401167639,11.523566972477063,11.573452543786487,11.623338115095912,11.673223686405336,11.723109257714762,11.772994829024187,11.822880400333611,11.872765971643036,11.92265154295246,11.972537114261884,12.022422685571309,12.072308256880733,12.122193828190158,12.172079399499582,12.221964970809006,12.27185054211843,12.321736113427855,12.37162168473728,12.421507256046706,12.47139282735613,12.521278398665554,12.571163969974979,12.621049541284403,12.670935112593828,12.720820683903252,12.770706255212676,12.8205918265221,12.870477397831525,12.92036296914095,12.970248540450374,13.020134111759798,13.070019683069223,13.119905254378647,13.169790825688073,13.219676396997498,13.269561968306922,13.319447539616347,13.369333110925771,13.419218682235195,13.46910425354462,13.518989824854044,13.568875396163468,13.618760967472893,13.668646538782317,13.718532110091742,13.768417681401166,13.81830325271059,13.868188824020017,13.918074395329441,13.967959966638865,14.01784553794829,14.067731109257714,14.117616680567139,14.167502251876563,14.217387823185987,14.267273394495412,14.317158965804836,14.36704453711426,14.416930108423685,14.46681567973311,14.516701251042534,14.56658682235196,14.616472393661384,14.666357964970809,14.716243536280233,14.766129107589657,14.816014678899082,14.865900250208506,14.91578582151793,14.965671392827355,15.01555696413678,15.065442535446204,15.115328106755628,15.165213678065053,15.215099249374477,15.264984820683903,15.314870391993328,15.364755963302752,15.414641534612176,15.4645271059216,15.514412677231025,15.56429824854045,15.614183819849874,15.664069391159298,15.713954962468723,15.763840533778147,15.813726105087571,15.863611676396996,15.91349724770642,15.963382819015845,16.01326839032527,16.063153961634693,16.113039532944118,16.162925104253542,16.212810675562967,16.26269624687239,16.312581818181815,16.362467389491243,16.412352960800668,16.462238532110092,16.512124103419517,16.56200967472894,16.611895246038365,16.66178081734779,16.711666388657214,16.76155195996664,16.811437531276063,16.861323102585487,16.91120867389491,16.961094245204336,17.01097981651376,17.060865387823185,17.11075095913261,17.160636530442034,17.210522101751458,17.260407673060882,17.310293244370307,17.36017881567973,17.410064386989156,17.45994995829858,17.509835529608004,17.55972110091743,17.609606672226853,17.659492243536278,17.709377814845702,17.75926338615513,17.809148957464554,17.85903452877398,17.908920100083403,17.958805671392827,18.008691242702252,18.058576814011676,18.1084623853211,18.158347956630525,18.20823352793995,18.258119099249374,18.308004670558798,18.357890241868223,18.407775813177647,18.45766138448707,18.507546955796496,18.55743252710592,18.607318098415345,18.65720366972477,18.707089241034193,18.756974812343618,18.806860383653042,18.856745954962467,18.90663152627189,18.956517097581315,19.00640266889074,19.056288240200164,19.10617381150959,19.156059382819016,19.20594495412844,19.255830525437865,19.30571609674729,19.355601668056714,19.40548723936614,19.455372810675563,19.505258381984987,19.55514395329441,19.605029524603836,19.65491509591326,19.704800667222685,19.75468623853211,19.804571809841534,19.854457381150958,19.904342952460382,19.954228523769807,20.00411409507923,20.053999666388655,20.10388523769808,20.153770809007504,20.20365638031693,20.253541951626353,20.303427522935777,20.353313094245202,20.403198665554626,20.45308423686405,20.502969808173475,20.5528553794829,20.602740950792327,20.65262652210175,20.702512093411176,20.7523976647206,20.802283236030025,20.85216880733945,20.902054378648874,20.951939949958298,21.001825521267723,21.051711092577147,21.10159666388657,21.151482235195996,21.20136780650542,21.251253377814844,21.30113894912427,21.351024520433693,21.400910091743118,21.450795663052542,21.500681234361966,21.55056680567139,21.600452376980815,21.65033794829024,21.700223519599664,21.75010909090909,21.799994662218513,21.849880233527937,21.89976580483736,21.949651376146786,21.999536947456214,22.04942251876564,22.099308090075063,22.149193661384487,22.19907923269391,22.248964804003336,22.29885037531276,22.348735946622185,22.39862151793161,22.448507089241033,22.498392660550458,22.548278231859882,22.598163803169307,22.64804937447873,22.697934945788155,22.74782051709758,22.797706088407004,22.84759165971643,22.897477231025853,22.947362802335277,22.9972483736447,23.047133944954126,23.09701951626355,23.146905087572975,23.1967906588824,23.246676230191824,23.296561801501248,23.346447372810673,23.396332944120097,23.446218515429525,23.49610408673895,23.545989658048374,23.595875229357798,23.645760800667222,23.695646371976647,23.74553194328607,23.795417514595496,23.84530308590492,23.895188657214344,23.94507422852377,23.994959799833193,24.044845371142618,24.094730942452042,24.144616513761466,24.19450208507089,24.244387656380315,24.29427322768974,24.344158798999164,24.39404437030859,24.443929941618013,24.493815512927437,24.54370108423686,24.593586655546286,24.64347222685571,24.693357798165135,24.74324336947456,24.793128940783983,24.84301451209341,24.892900083402836,24.94278565471226,24.992671226021685,25.04255679733111,25.092442368640533,25.142327939949958,25.192213511259382,25.242099082568807,25.29198465387823,25.341870225187655,25.39175579649708,25.441641367806504,25.49152693911593,25.541412510425353,25.591298081734777,25.6411836530442,25.691069224353626,25.74095479566305,25.790840366972475,25.8407259382819,25.890611509591324,25.940497080900748,25.990382652210172,26.040268223519597,26.09015379482902,26.140039366138446,26.18992493744787,26.239810508757294,26.289696080066722,26.339581651376147,26.38946722268557,26.439352793994995,26.48923836530442,26.539123936613844,26.58900950792327,26.638895079232693,26.688780650542117,26.738666221851542,26.788551793160966,26.83843736447039,26.888322935779815,26.93820850708924,26.988094078398664,27.037979649708088,27.087865221017513,27.137750792326937,27.18763636363636,27.237521934945786,27.28740750625521,27.337293077564635,27.38717864887406,27.437064220183483,27.486949791492908,27.536835362802332,27.586720934111757,27.63660650542118,27.68649207673061,27.736377648040033,27.786263219349458,27.836148790658882,27.886034361968306,27.93591993327773,27.985805504587155,28.03569107589658,28.085576647206004,28.13546221851543,28.185347789824853,28.235233361134277,28.2851189324437,28.335004503753126,28.38489007506255,28.434775646371975,28.4846612176814,28.534546788990824,28.584432360300248,28.634317931609672,28.684203502919097,28.73408907422852,28.783974645537945,28.83386021684737,28.883745788156794,28.93363135946622,28.983516930775643,29.033402502085067,29.083288073394492,29.13317364470392,29.183059216013344,29.23294478732277,29.282830358632193,29.332715929941617,29.38260150125104,29.432487072560466,29.48237264386989,29.532258215179315,29.58214378648874,29.632029357798164,29.681914929107588,29.731800500417013,29.781686071726437,29.83157164303586,29.881457214345286,29.93134278565471,29.981228356964134,30.03111392827356,30.080999499582983,30.130885070892408,30.180770642201832,30.230656213511256,30.28054178482068,30.330427356130105,30.38031292743953,30.430198498748954,30.48008407005838,30.529969641367806,30.57985521267723,30.629740783986655,30.67962635529608,30.729511926605504,30.77939749791493,30.829283069224353,30.879168640533777,30.9290542118432,30.978939783152626,31.02882535446205,31.078710925771475,31.1285964970809,31.178482068390323,31.228367639699748,31.278253211009172,31.328138782318597,31.37802435362802,31.427909924937445,31.47779549624687,31.527681067556294,31.57756663886572,31.627452210175143,31.677337781484567,31.72722335279399,31.777108924103416,31.82699449541284,31.876880066722265,31.92676563803169,31.976651209341117,32.02653678065054,32.07642235195996,32.12630792326939,32.17619349457881,32.226079065888236,32.27596463719766,32.325850208507084,32.37573577981651,32.42562135112593,32.47550692243536,32.52539249374478,32.575278065054206,32.62516363636363,32.67504920767306,32.72493477898249,32.77482035029191,32.824705921601335,32.87459149291076,32.924477064220184,32.97436263552961,33.02424820683903,33.07413377814846,33.12401934945788,33.173904920767306,33.22379049207673,33.273676063386155,33.32356163469558,33.373447206005004,33.42333277731443,33.47321834862385,33.52310391993328,33.5729894912427,33.622875062552126,33.67276063386155,33.722646205170975,33.7725317764804,33.82241734778982,33.87230291909925,33.92218849040867,33.9720740617181,34.02195963302752,34.071845204336945,34.12173077564637,34.171616346955794,34.22150191826522,34.27138748957464,34.32127306088407,34.37115863219349,34.421044203502916,34.47092977481234,34.520815346121765,34.57070091743119,34.620586488740614,34.67047206005004,34.72035763135946,34.77024320266889,34.82012877397831,34.870014345287736,34.91989991659716,34.969785487906584,35.01967105921601,35.06955663052543,35.11944220183486,35.16932777314428,35.219213344453706,35.26909891576313,35.318984487072555,35.36887005838198,35.418755629691404,35.46864120100083,35.51852677231026,35.568412343619684,35.61829791492911,35.66818348623853,35.71806905754796,35.76795462885738,35.817840200166806,35.86772577147623,35.917611342785655,35.96749691409508,36.017382485404504,36.06726805671393,36.11715362802335,36.16703919933278,36.2169247706422,36.266810341951626,36.31669591326105,36.366581484570474,36.4164670558799,36.46635262718932,36.51623819849875,36.56612376980817,36.616009341117596,36.66589491242702,36.715780483736445,36.76566605504587,36.815551626355294,36.86543719766472,36.91532276897414,36.96520834028357,37.01509391159299,37.064979482902416,37.11486505421184,37.164750625521265,37.21463619683069,37.26452176814011,37.31440733944954,37.36429291075896,37.41417848206839,37.46406405337781,37.513949624687235,37.56383519599666,37.613720767306084,37.66360633861551,37.71349190992493,37.76337748123436,37.81326305254378,37.863148623853206,37.91303419516263,37.962919766472055,38.01280533778148,38.062690909090904,38.11257648040033,38.16246205170975,38.21234762301918,38.2622331943286,38.31211876563803,38.36200433694746,38.41188990825688,38.461775479566306,38.51166105087573,38.561546622185155,38.61143219349458,38.661317764804004,38.71120333611343,38.76108890742285,38.81097447873228,38.8608600500417,38.910745621351126,38.96063119266055,39.010516763969974,39.0604023352794,39.11028790658882,39.16017347789825,39.21005904920767,39.259944620517096,39.30983019182652,39.359715763135945,39.40960133444537,39.459486905754794,39.50937247706422,39.55925804837364,39.60914361968307,39.65902919099249,39.708914762301916,39.75880033361134,39.808685904920765,39.85857147623019,39.90845704753961,39.95834261884904,40.00822819015846,40.05811376146789,40.10799933277731,40.157884904086735,40.20777047539616,40.257656046705584,40.30754161801501,40.35742718932443,40.40731276063386,40.45719833194328,40.507083903252706,40.55696947456213,40.606855045871555,40.65674061718098,40.706626188490404,40.75651175979983,40.80639733110925,40.85628290241868,40.9061684737281,40.956054045037526,41.00593961634695,41.055825187656374,41.1057107589658,41.15559633027523,41.205481901584655,41.25536747289408,41.3052530442035,41.35513861551293,41.40502418682235,41.45490975813178,41.5047953294412,41.554680900750625,41.60456647206005,41.654452043369474,41.7043376146789,41.75422318598832,41.80410875729775,41.85399432860717,41.903879899916596,41.95376547122602,42.003651042535445,42.05353661384487,42.103422185154294,42.15330775646372,42.20319332777314,42.25307889908257,42.30296447039199,42.352850041701416,42.40273561301084,42.452621184320265,42.50250675562969,42.55239232693911,42.60227789824854,42.65216346955796,42.70204904086739,42.75193461217681,42.801820183486235,42.85170575479566,42.901591326105084,42.95147689741451,43.00136246872393,43.05124804003336,43.10113361134278,43.151019182652206,43.20090475396163,43.250790325271055,43.30067589658048,43.350561467889904,43.40044703919933,43.45033261050875,43.50021818181818,43.5501037531276,43.599989324437026,43.64987489574645,43.699760467055874,43.7496460383653,43.79953160967472,43.84941718098415,43.89930275229357,43.949188323602996,43.99907389491243,44.04895946622185,44.09884503753128,44.1487306088407,44.198616180150125,44.24850175145955,44.298387322768974,44.3482728940784,44.39815846538782,44.44804403669725,44.49792960800667,44.547815179316096,44.59770075062552,44.647586321934945,44.69747189324437,44.747357464553794,44.79724303586322,44.84712860717264,44.89701417848207,44.94689974979149,44.996785321100916,45.04667089241034,45.096556463719764,45.14644203502919,45.19632760633861,45.24621317764804,45.29609874895746,45.345984320266886,45.39586989157631,45.445755462885735,45.49564103419516,45.545526605504584,45.59541217681401,45.64529774812343,45.69518331943286,45.74506889074228,45.794954462051706,45.84484003336113,45.894725604670555,45.94461117597998,45.9944967472894,46.04438231859883,46.09426788990825,46.14415346121768,46.1940390325271,46.243924603836525,46.29381017514595,46.343695746455374,46.3935813177648,46.44346688907422,46.49335246038365,46.54323803169307,46.593123603002496,46.64300917431192,46.692894745621345,46.74278031693077,46.792665888240194,46.842551459549625,46.89243703085905,46.942322602168474,46.9922081734779,47.04209374478732,47.09197931609675,47.14186488740617,47.191750458715596,47.24163603002502,47.291521601334445,47.34140717264387,47.391292743953294,47.44117831526272,47.49106388657214,47.54094945788157,47.59083502919099,47.640720600500416,47.69060617180984,47.740491743119264,47.79037731442869,47.84026288573811,47.89014845704754,47.94003402835696,47.989919599666386,48.03980517097581,48.089690742285235,48.13957631359466,48.189461884904084,48.23934745621351,48.28923302752293,48.33911859883236,48.38900417014178,48.438889741451206,48.48877531276063,48.538660884070055,48.58854645537948,48.6384320266889,48.68831759799833,48.73820316930775,48.78808874061718,48.8379743119266,48.887859883236025,48.93774545454545,48.987631025854874,49.0375165971643,49.08740216847372,49.13728773978315,49.18717331109257,49.237058882401996,49.28694445371142,49.336830025020845,49.38671559633027,49.436601167639694,49.48648673894912,49.53637231025854,49.58625788156797,49.63614345287739,49.68602902418682,49.73591459549625,49.78580016680567,49.835685738115096,0.0,0.04988557130942452,0.09977114261884903,0.14965671392827357,0.19954228523769807,0.24942785654712257,0.29931342785654713,0.34919899916597164,0.39908457047539614,0.44897014178482064,0.49885571309424515,0.5487412844036696,0.5986268557130943,0.6485124270225188,0.6983979983319433,0.7482835696413678,0.7981691409507923,0.8480547122602168,0.8979402835696413,0.9478258548790658,0.9977114261884903,1.047596997497915,1.0974825688073393,1.147368140116764,1.1972537114261885,1.247139282735613,1.2970248540450375,1.346910425354462,1.3967959966638865,1.446681567973311,1.4965671392827355,1.54645271059216,1.5963382819015846,1.6462238532110092,1.6961094245204336,1.7459949958298582,1.7958805671392826,1.8457661384487072,1.8956517097581316,1.9455372810675562,1.9954228523769806,2.0453084236864054,2.09519399499583,2.145079566305254,2.1949651376146786,2.2448507089241034,2.294736280233528,2.344621851542952,2.394507422852377,2.4443929941618014,2.494278565471226,2.5441641367806502,2.594049708090075,2.6439352793994995,2.693820850708924,2.7437064220183482,2.793591993327773,2.8434775646371975,2.893363135946622,2.9432487072560467,2.993134278565471,3.0430198498748955,3.09290542118432,3.1427909924937447,3.192676563803169,3.2425621351125935,3.2924477064220183,3.3423332777314427,3.392218849040867,3.4421044203502915,3.4919899916597164,3.5418755629691407,3.591761134278565,3.64164670558799,3.6915322768974144,3.7414178482068388,3.791303419516263,3.841188990825688,3.8910745621351124,3.9409601334445368,3.990845704753961,4.040731276063386,4.090616847372811,4.140502418682235,4.19038798999166,4.240273561301084,4.290159132610508,4.340044703919933,4.389930275229357,4.4398158465387825,4.489701417848207,4.539586989157631,4.589472560467056,4.63935813177648,4.689243703085904,4.739129274395329,4.789014845704754,4.8389004170141785,4.888785988323603,4.938671559633027,4.988557130942452,5.038442702251876,5.0883282735613005,5.138213844870725,5.18809941618015,5.2379849874895745,5.287870558798999,5.337756130108423,5.387641701417848,5.437527272727272,5.4874128440366965,5.537298415346122,5.587183986655546,5.637069557964971,5.686955129274395,5.736840700583819,5.786726271893244,5.836611843202668,5.886497414512093,5.936382985821518,5.986268557130942,6.036154128440367,6.086039699749791,6.135925271059215,6.18581084236864,6.235696413678065,6.285581984987489,6.335467556296914,6.385353127606338,6.435238698915763,6.485124270225187,6.535009841534611,6.584895412844037,6.634780984153461,6.6846665554628855,6.73455212677231,6.784437698081734,6.834323269391159,6.884208840700583,6.934094412010008,6.983979983319433,7.033865554628857,7.0837511259382815,7.133636697247706,7.18352226855713,7.233407839866555,7.28329341117598,7.333178982485404,7.383064553794829,7.432950125104253,7.4828356964136775,7.532721267723102,7.582606839032526,7.632492410341952,7.682377981651376,7.7322635529608,7.782149124270225,7.832034695579649,7.8819202668890735,7.931805838198498,7.981691409507922,8.031576980817347,8.081462552126771,8.131348123436196,8.181233694745622,8.231119266055046,8.28100483736447,8.330890408673895,8.38077597998332,8.430661551292744,8.480547122602168,8.530432693911592,8.580318265221017,8.630203836530441,8.680089407839866,8.72997497914929,8.779860550458714,8.829746121768139,8.879631693077565,8.92951726438699,8.979402835696414,9.029288407005838,9.079173978315263,9.129059549624687,9.178945120934111,9.228830692243536,9.27871626355296,9.328601834862384,9.378487406171809,9.428372977481233,9.478258548790658,9.528144120100082,9.578029691409508,9.627915262718933,9.677800834028357,9.727686405337781,9.777571976647206,9.82745754795663,9.877343119266055,9.927228690575479,9.977114261884903,10.026999833194328,10.076885404503752,10.126770975813177,10.176656547122601,10.226542118432025,10.27642768974145,10.326313261050876,10.3761988323603,10.426084403669725,10.475969974979149,10.525855546288573,10.575741117597998,10.625626688907422,10.675512260216847,10.725397831526271,10.775283402835695,10.82516897414512,10.875054545454544,10.924940116763969,10.974825688073393,11.02471125938282,11.074596830692244,11.124482402001668,11.174367973311092,11.224253544620517,11.274139115929941,11.324024687239366,11.37391025854879,11.423795829858214,11.473681401167639,11.523566972477063,11.573452543786487,11.623338115095912,11.673223686405336,11.723109257714762,11.772994829024187,11.822880400333611,11.872765971643036,11.92265154295246,11.972537114261884,12.022422685571309,12.072308256880733,12.122193828190158,12.172079399499582,12.221964970809006,12.27185054211843,12.321736113427855,12.37162168473728,12.421507256046706,12.47139282735613,12.521278398665554,12.571163969974979,12.621049541284403,12.670935112593828,12.720820683903252,12.770706255212676,12.8205918265221,12.870477397831525,12.92036296914095,12.970248540450374,13.020134111759798,13.070019683069223,13.119905254378647,13.169790825688073,13.219676396997498,13.269561968306922,13.319447539616347,13.369333110925771,13.419218682235195,13.46910425354462,13.518989824854044,13.568875396163468,13.618760967472893,13.668646538782317,13.718532110091742,13.768417681401166,13.81830325271059,13.868188824020017,13.918074395329441,13.967959966638865,14.01784553794829,14.067731109257714,14.117616680567139,14.167502251876563,14.217387823185987,14.267273394495412,14.317158965804836,14.36704453711426,14.416930108423685,14.46681567973311,14.516701251042534,14.56658682235196,14.616472393661384,14.666357964970809,14.716243536280233,14.766129107589657,14.816014678899082,14.865900250208506,14.91578582151793,14.965671392827355,15.01555696413678,15.065442535446204,15.115328106755628,15.165213678065053,15.215099249374477,15.264984820683903,15.314870391993328,15.364755963302752,15.414641534612176,15.4645271059216,15.514412677231025,15.56429824854045,15.614183819849874,15.664069391159298,15.713954962468723,15.763840533778147,15.813726105087571,15.863611676396996,15.91349724770642,15.963382819015845,16.01326839032527,16.063153961634693,16.113039532944118,16.162925104253542,16.212810675562967,16.26269624687239,16.312581818181815,16.362467389491243,16.412352960800668,16.462238532110092,16.512124103419517,16.56200967472894,16.611895246038365,16.66178081734779,16.711666388657214,16.76155195996664,16.811437531276063,16.861323102585487,16.91120867389491,16.961094245204336,17.01097981651376,17.060865387823185,17.11075095913261,17.160636530442034,17.210522101751458,17.260407673060882,17.310293244370307,17.36017881567973,17.410064386989156,17.45994995829858,17.509835529608004,17.55972110091743,17.609606672226853,17.659492243536278,17.709377814845702,17.75926338615513,17.809148957464554,17.85903452877398,17.908920100083403,17.958805671392827,18.008691242702252,18.058576814011676,18.1084623853211,18.158347956630525,18.20823352793995,18.258119099249374,18.308004670558798,18.357890241868223,18.407775813177647,18.45766138448707,18.507546955796496,18.55743252710592,18.607318098415345,18.65720366972477,18.707089241034193,18.756974812343618,18.806860383653042,18.856745954962467,18.90663152627189,18.956517097581315,19.00640266889074,19.056288240200164,19.10617381150959,19.156059382819016,19.20594495412844,19.255830525437865,19.30571609674729,19.355601668056714,19.40548723936614,19.455372810675563,19.505258381984987,19.55514395329441,19.605029524603836,19.65491509591326,19.704800667222685,19.75468623853211,19.804571809841534,19.854457381150958,19.904342952460382,19.954228523769807,20.00411409507923,20.053999666388655,20.10388523769808,20.153770809007504,20.20365638031693,20.253541951626353,20.303427522935777,20.353313094245202,20.403198665554626,20.45308423686405,20.502969808173475,20.5528553794829,20.602740950792327,20.65262652210175,20.702512093411176,20.7523976647206,20.802283236030025,20.85216880733945,20.902054378648874,20.951939949958298,21.001825521267723,21.051711092577147,21.10159666388657,21.151482235195996,21.20136780650542,21.251253377814844,21.30113894912427,21.351024520433693,21.400910091743118,21.450795663052542,21.500681234361966,21.55056680567139,21.600452376980815,21.65033794829024,21.700223519599664,21.75010909090909,21.799994662218513,21.849880233527937,21.89976580483736,21.949651376146786,21.999536947456214,22.04942251876564,22.099308090075063,22.149193661384487,22.19907923269391,22.248964804003336,22.29885037531276,22.348735946622185,22.39862151793161,22.448507089241033,22.498392660550458,22.548278231859882,22.598163803169307,22.64804937447873,22.697934945788155,22.74782051709758,22.797706088407004,22.84759165971643,22.897477231025853,22.947362802335277,22.9972483736447,23.047133944954126,23.09701951626355,23.146905087572975,23.1967906588824,23.246676230191824,23.296561801501248,23.346447372810673,23.396332944120097,23.446218515429525,23.49610408673895,23.545989658048374,23.595875229357798,23.645760800667222,23.695646371976647,23.74553194328607,23.795417514595496,23.84530308590492,23.895188657214344,23.94507422852377,23.994959799833193,24.044845371142618,24.094730942452042,24.144616513761466,24.19450208507089,24.244387656380315,24.29427322768974,24.344158798999164,24.39404437030859,24.443929941618013,24.493815512927437,24.54370108423686,24.593586655546286,24.64347222685571,24.693357798165135,24.74324336947456,24.793128940783983,24.84301451209341,24.892900083402836,24.94278565471226,24.992671226021685,25.04255679733111,25.092442368640533,25.142327939949958,25.192213511259382,25.242099082568807,25.29198465387823,25.341870225187655,25.39175579649708,25.441641367806504,25.49152693911593,25.541412510425353,25.591298081734777,25.6411836530442,25.691069224353626,25.74095479566305,25.790840366972475,25.8407259382819,25.890611509591324,25.940497080900748,25.990382652210172,26.040268223519597,26.09015379482902,26.140039366138446,26.18992493744787,26.239810508757294,26.289696080066722,26.339581651376147,26.38946722268557,26.439352793994995,26.48923836530442,26.539123936613844,26.58900950792327,26.638895079232693,26.688780650542117,26.738666221851542,26.788551793160966,26.83843736447039,26.888322935779815,26.93820850708924,26.988094078398664,27.037979649708088,27.087865221017513,27.137750792326937,27.18763636363636,27.237521934945786,27.28740750625521,27.337293077564635,27.38717864887406,27.437064220183483,27.486949791492908,27.536835362802332,27.586720934111757,27.63660650542118,27.68649207673061,27.736377648040033,27.786263219349458,27.836148790658882,27.886034361968306,27.93591993327773,27.985805504587155,28.03569107589658,28.085576647206004,28.13546221851543,28.185347789824853,28.235233361134277,28.2851189324437,28.335004503753126,28.38489007506255,28.434775646371975,28.4846612176814,28.534546788990824,28.584432360300248,28.634317931609672,28.684203502919097,28.73408907422852,28.783974645537945,28.83386021684737,28.883745788156794,28.93363135946622,28.983516930775643,29.033402502085067,29.083288073394492,29.13317364470392,29.183059216013344,29.23294478732277,29.282830358632193,29.332715929941617,29.38260150125104,29.432487072560466,29.48237264386989,29.532258215179315,29.58214378648874,29.632029357798164,29.681914929107588,29.731800500417013,29.781686071726437,29.83157164303586,29.881457214345286,29.93134278565471,29.981228356964134,30.03111392827356,30.080999499582983,30.130885070892408,30.180770642201832,30.230656213511256,30.28054178482068,30.330427356130105,30.38031292743953,30.430198498748954,30.48008407005838,30.529969641367806,30.57985521267723,30.629740783986655,30.67962635529608,30.729511926605504,30.77939749791493,30.829283069224353,30.879168640533777,30.9290542118432,30.978939783152626,31.02882535446205,31.078710925771475,31.1285964970809,31.178482068390323,31.228367639699748,31.278253211009172,31.328138782318597,31.37802435362802,31.427909924937445,31.47779549624687,31.527681067556294,31.57756663886572,31.627452210175143,31.677337781484567,31.72722335279399,31.777108924103416,31.82699449541284,31.876880066722265,31.92676563803169,31.976651209341117,32.02653678065054,32.07642235195996,32.12630792326939,32.17619349457881,32.226079065888236,32.27596463719766,32.325850208507084,32.37573577981651,32.42562135112593,32.47550692243536,32.52539249374478,32.575278065054206,32.62516363636363,32.67504920767306,32.72493477898249,32.77482035029191,32.824705921601335,32.87459149291076,32.924477064220184,32.97436263552961,33.02424820683903,33.07413377814846,33.12401934945788,33.173904920767306,33.22379049207673,33.273676063386155,33.32356163469558,33.373447206005004,33.42333277731443,33.47321834862385,33.52310391993328,33.5729894912427,33.622875062552126,33.67276063386155,33.722646205170975,33.7725317764804,33.82241734778982,33.87230291909925,33.92218849040867,33.9720740617181,34.02195963302752,34.071845204336945,34.12173077564637,34.171616346955794,34.22150191826522,34.27138748957464,34.32127306088407,34.37115863219349,34.421044203502916,34.47092977481234,34.520815346121765,34.57070091743119,34.620586488740614,34.67047206005004,34.72035763135946,34.77024320266889,34.82012877397831,34.870014345287736,34.91989991659716,34.969785487906584,35.01967105921601,35.06955663052543,35.11944220183486,35.16932777314428,35.219213344453706,35.26909891576313,35.318984487072555,35.36887005838198,35.418755629691404,35.46864120100083,35.51852677231026,35.568412343619684,35.61829791492911,35.66818348623853,35.71806905754796,35.76795462885738,35.817840200166806,35.86772577147623,35.917611342785655,35.96749691409508,36.017382485404504,36.06726805671393,36.11715362802335,36.16703919933278,36.2169247706422,36.266810341951626,36.31669591326105,36.366581484570474,36.4164670558799,36.46635262718932,36.51623819849875,36.56612376980817,36.616009341117596,36.66589491242702,36.715780483736445,36.76566605504587,36.815551626355294,36.86543719766472,36.91532276897414,36.96520834028357,37.01509391159299,37.064979482902416,37.11486505421184,37.164750625521265,37.21463619683069,37.26452176814011,37.31440733944954,37.36429291075896,37.41417848206839,37.46406405337781,37.513949624687235,37.56383519599666,37.613720767306084,37.66360633861551,37.71349190992493,37.76337748123436,37.81326305254378,37.863148623853206,37.91303419516263,37.962919766472055,38.01280533778148,38.062690909090904,38.11257648040033,38.16246205170975,38.21234762301918,38.2622331943286,38.31211876563803,38.36200433694746,38.41188990825688,38.461775479566306,38.51166105087573,38.561546622185155,38.61143219349458,38.661317764804004,38.71120333611343,38.76108890742285,38.81097447873228,38.8608600500417,38.910745621351126,38.96063119266055,39.010516763969974,39.0604023352794,39.11028790658882,39.16017347789825,39.21005904920767,39.259944620517096,39.30983019182652,39.359715763135945,39.40960133444537,39.459486905754794,39.50937247706422,39.55925804837364,39.60914361968307,39.65902919099249,39.708914762301916,39.75880033361134,39.808685904920765,39.85857147623019,39.90845704753961,39.95834261884904,40.00822819015846,40.05811376146789,40.10799933277731,40.157884904086735,40.20777047539616,40.257656046705584,40.30754161801501,40.35742718932443,40.40731276063386,40.45719833194328,40.507083903252706,40.55696947456213,40.606855045871555,40.65674061718098,40.706626188490404,40.75651175979983,40.80639733110925,40.85628290241868,40.9061684737281,40.956054045037526,41.00593961634695,41.055825187656374,41.1057107589658,41.15559633027523,41.205481901584655,41.25536747289408,41.3052530442035,41.35513861551293,41.40502418682235,41.45490975813178,41.5047953294412,41.554680900750625,41.60456647206005,41.654452043369474,41.7043376146789,41.75422318598832,41.80410875729775,41.85399432860717,41.903879899916596,41.95376547122602,42.003651042535445,42.05353661384487,42.103422185154294,42.15330775646372,42.20319332777314,42.25307889908257,42.30296447039199,42.352850041701416,42.40273561301084,42.452621184320265,42.50250675562969,42.55239232693911,42.60227789824854,42.65216346955796,42.70204904086739,42.75193461217681,42.801820183486235,42.85170575479566,42.901591326105084,42.95147689741451,43.00136246872393,43.05124804003336,43.10113361134278,43.151019182652206,43.20090475396163,43.250790325271055,43.30067589658048,43.350561467889904,43.40044703919933,43.45033261050875,43.50021818181818,43.5501037531276,43.599989324437026,43.64987489574645,43.699760467055874,43.7496460383653,43.79953160967472,43.84941718098415,43.89930275229357,43.949188323602996,43.99907389491243,44.04895946622185,44.09884503753128,44.1487306088407,44.198616180150125,44.24850175145955,44.298387322768974,44.3482728940784,44.39815846538782,44.44804403669725,44.49792960800667,44.547815179316096,44.59770075062552,44.647586321934945,44.69747189324437,44.747357464553794,44.79724303586322,44.84712860717264,44.89701417848207,44.94689974979149,44.996785321100916,45.04667089241034,45.096556463719764,45.14644203502919,45.19632760633861,45.24621317764804,45.29609874895746,45.345984320266886,45.39586989157631,45.445755462885735,45.49564103419516,45.545526605504584,45.59541217681401,45.64529774812343,45.69518331943286,45.74506889074228,45.794954462051706,45.84484003336113,45.894725604670555,45.94461117597998,45.9944967472894,46.04438231859883,46.09426788990825,46.14415346121768,46.1940390325271,46.243924603836525,46.29381017514595,46.343695746455374,46.3935813177648,46.44346688907422,46.49335246038365,46.54323803169307,46.593123603002496,46.64300917431192,46.692894745621345,46.74278031693077,46.792665888240194,46.842551459549625,46.89243703085905,46.942322602168474,46.9922081734779,47.04209374478732,47.09197931609675,47.14186488740617,47.191750458715596,47.24163603002502,47.291521601334445,47.34140717264387,47.391292743953294,47.44117831526272,47.49106388657214,47.54094945788157,47.59083502919099,47.640720600500416,47.69060617180984,47.740491743119264,47.79037731442869,47.84026288573811,47.89014845704754,47.94003402835696,47.989919599666386,48.03980517097581,48.089690742285235,48.13957631359466,48.189461884904084,48.23934745621351,48.28923302752293,48.33911859883236,48.38900417014178,48.438889741451206,48.48877531276063,48.538660884070055,48.58854645537948,48.6384320266889,48.68831759799833,48.73820316930775,48.78808874061718,48.8379743119266,48.887859883236025,48.93774545454545,48.987631025854874,49.0375165971643,49.08740216847372,49.13728773978315,49.18717331109257,49.237058882401996,49.28694445371142,49.336830025020845,49.38671559633027,49.436601167639694,49.48648673894912,49.53637231025854,49.58625788156797,49.63614345287739,49.68602902418682,49.73591459549625,49.78580016680567,49.835685738115096],\"xaxis\":\"x\",\"y\":[0.509627974636405,0.21231873950189964,-0.06743204292890541,-0.33376876864246213,-0.5932834937645358,-0.8507633496299722,-1.1075604566129298,-1.357717505372502,-1.5858892277217629,-1.769018788089033,-1.8835708680372747,-1.9173516649508022,-1.8769201058306788,-1.7859054857299228,-1.6737578323637978,-1.5654304563952497,-1.4760122901262895,-1.410838943148236,-1.3680264726596467,-1.339968084319396,-1.315850921696647,-1.2840888538835786,-1.2339443138730148,-1.1572773597980284,-1.0524660162843347,-0.9213393690371633,-0.7704958475070169,-0.6077134049924771,-0.4405661053173968,-0.2750898430740872,-0.11538425285103804,0.03655166465254572,0.17969052155481727,0.31431883129484606,0.44093281547374186,0.5604451783856237,0.673182125580074,0.7792896797636545,0.8786300722840266,0.9699725175669889,1.05183610841251,1.122304742770379,1.1793548994500909,1.221577867714216,1.2478764772996718,1.2581889081159299,1.2537907295232416,1.2364453320646538,1.2086673566237827,1.1730453656176683,1.1321564520141663,1.0879065421027476,1.0418672569246235,0.9951408628507772,0.9481962971418507,0.901337055403724,0.8545749843210635,0.8078087063220738,0.7609035351795267,0.7137712243872276,0.666369113768067,0.6187196425895977,0.5709817138308916,0.5233286475164922,0.476000771918111,0.4292757292986753,0.3834198418828321,0.3387262085212399,0.29544760497705946,0.2537498834127266,0.21379889599067664,0.17572296501735007,0.13964895030763802,0.1055679634603715,0.0734372347112135,0.043213994295826015,0.014821475302196196,-0.011824544257654782,-0.03690707855989844,-0.06063182149618307,-0.0832044669581567,-0.10488068332603585,-0.12585049591183167,-0.1464718150700063,-0.16713942333090634,-0.1882481032248779,-0.2103021298661606,-0.23361253480373043,-0.25884626588425386,-0.28684556383131754,-0.3184526693685067,-0.3545586589833602,-0.3962185439236507,-0.44487782443599616,-0.5021240784061591,-0.5696523314144821,-0.6495056837133152,-0.7434827088368267,-0.8532849426518054,-0.9797030715964002,-1.1217850506952123,-1.2755158496993655,-1.4330685690015463,-1.5815559856586852,-1.7045040220454397,-1.787040836583884,-1.818571539434985,-1.8004573193495665,-1.7427492366221782,-1.6615215707225601,-1.5725177301906132,-1.487566655111093,-1.4125263476731786,-1.3487294531150333,-1.2934499711074994,-1.2419687051639567,-1.1886357562145762,-1.1280790264532192,-1.0566886966054023,-0.9721924718157141,-0.8751938088077531,-0.7676041121076534,-0.6525605029501071,-0.5337304442252715,-0.4143225602364411,-0.29723213782266567,-0.18438538519388448,-0.07680949152132759,0.02480854607797688,0.1205161658639313,0.21079183718123695,0.29621981197905334,0.37764108580031697,0.45592870019127313,0.5317899399631124,0.6064445108944635,0.6801918544949989,0.7533077064642171,0.8259695856924711,0.8981530389844157,0.9689802014957014,1.0370533711268788,1.1009520532495078,1.1584712974316551,1.2075570748691942,1.2462594376938294,1.272920285301164,1.2865087286829808,1.2873500316617816,1.2760987550037062,1.2543144765822507,1.2240041679536642,1.1871734598445454,1.145837300502188,1.1014244463957334,1.0551970019636558,1.0080186168785628,0.9602669090167822,0.9122346019626738,0.8640114939436765,0.8156097781416289,0.7670385749387193,0.718331632381485,0.6696031179603612,0.6209873581566254,0.5726836240608365,0.5249440096021594,0.4780114666596079,0.4321833601036795,0.3876956420979455,0.3447470928578486,0.303536492598832,0.26421178900153264,0.22692815843695258,0.19168890472102168,0.15849345061620945,0.12733290447484083,0.09815828922655688,0.07088041729204812,0.04531952159319076,0.02129583505185811,-0.001397327200892692,-0.022958749148996815,-0.04367289756785933,-0.06391765277161869,-0.08407089507441334,-0.10453976538364158,-0.12582463528632104,-0.14856386122700116,-0.17349328508234235,-0.2013986425535593,-0.23349001630497665,-0.2710462036331641,-0.3157316124099198,-0.3696666695487163,-0.4353951391873661,-0.516280075106635,-0.6161214004037122,-0.739397801116015,-0.8905658976923235,-1.0730135731635486,-1.286924684657762,-1.5246174871723575,-1.7670671007618641,-1.981499081233525,-2.128927641474463,-2.180860834369594,-2.1378112973688346,-2.0290024026191267,-1.8958036223858092,-1.7727480672844658,-1.6791568899674414,-1.6182231231350703,-1.582331080371524,-1.5558412143053162,-1.5195660577461714,-1.456672299882677,-1.3548147793076322,-1.2127163830408727,-1.0365526145983865,-0.8383764701426034,-0.6308142108322773,-0.42401388129412704,-0.224648701225099,-0.03542189544536506,0.14306426389888446,0.3123412741644153,0.4745893489936738,0.6319910043582411,0.7859470753546608,0.9374673928236379,1.0844642516860015,1.22354985508435,1.348929122459806,1.4532587669482573,1.5294339234019452,1.5722967017406986,1.5813853713506374,1.559919831871895,1.5151390584322084,1.455568707989198,1.3892805492259823,1.3223480509240624,1.2585839987374094,1.199490389834847,1.1449751602945155,1.0936497035472683,1.0435781953147587,0.9927440937800265,0.9392645691377707,0.88176254813293,0.8195395213825355,0.7524433533038359,0.6810875576460265,0.6063608245412807,0.5295004805121393,0.4518526037474072,0.37463010123809937,0.2989425992442618,0.22580758263920866,0.1557240758783048,0.08915035232829692,0.026396243905507304,-0.032494185601711315,-0.0876660806377712,-0.13927603068651562,-0.18756637350528535,-0.23289205683734546,-0.27563782579099094,-0.31617436871157906,-0.3549515431377308,-0.39240720511506283,-0.42895790909878295,-0.46502020954409884,-0.5010106609062183,-0.5371769318517398,-0.5742204249902153,-0.6123892308393937,-0.6517692032390869,-0.6924461960291031,-0.7345060630492541,-0.7779296390531473,-0.8225778994806776,-0.8678249320871333,-0.9128988668857427,-0.9569825213699885,-0.9989250690318137,-1.0374162338457606,-1.071142856968171,-1.0989223444548084,-1.1192866765020835,-1.1317835191899324,-1.1361063957653321,-1.1321440782310166,-1.1202828887998226,-1.1014747537020109,-1.0767055944414852,-1.0469754398824582,-1.0134199981164251,-0.9768950545585846,-0.9382077072372481,-0.8980516456959319,-0.8568411198602233,-0.8149266453725627,-0.7726156774061979,-0.7301101335745404,-0.6875811075979589,-0.645215331741032,-0.6031898182763877,-0.561689036476346,-0.5208985011308754,-0.4810313917633029,-0.4422817774751068,-0.40482476912299115,-0.3688354775636605,-0.33447300497841986,-0.30190518972547636,-0.27121913192808617,-0.24248755181016585,-0.21578316959563135,-0.1911577495591244,-0.16863890705512438,-0.14821447159152537,-0.1298678442424934,-0.11358242608219456,-0.0993367699907747,-0.08706845858425837,-0.07675720638487164,-0.06838469945603991,-0.06193264475863296,-0.05739654732502307,-0.05482062758286399,-0.05428198541618057,-0.055923284089055114,-0.059958479122175556,-0.06673106084082558,-0.07670421508936327,-0.09057088241592627,-0.10940878127919823,-0.13440411613581574,-0.1677707615811908,-0.21228712739112054,-0.2719495753895533,-0.352659476122632,-0.46262131704395215,-0.6135220319358231,-0.8209472883353556,-1.1038133197707052,-1.4786846952108497,-1.9436093188888832,-2.4444791561915675,-2.8482304388979265,-2.9984461571871215,-2.8629553571339996,-2.579670138617092,-2.323418428847167,-2.1918876708964885,-2.1977008344051217,-2.2900847806194133,-2.367996940773078,-2.3154393201485406,-2.0682549878913443,-1.6564055785260012,-1.1670457143067596,-0.6750338021744957,-0.21364493254808714,0.21656838037087217,0.6323937392466329,1.0523929154070923,1.485906036447575,1.9132017591345936,2.278271316868265,2.500343034502861,2.5280597807246714,2.3917574730299456,2.181831433308764,1.9880385107828513,1.8621841790875588,1.8183040868763567,1.8434180636806623,1.9012855822593417,1.9408366942514124,1.9068528307278125,1.7645317334134614,1.5138739495160758,1.1888117864434915,0.8308851440782352,0.47269544207096403,0.1296014566837562,-0.19488157640263745,-0.504178460948257,-0.8022615700342804,-1.0903917800226604,-1.3597353761265643,-1.593612747389366,-1.7683821688317791,-1.8630003072568708,-1.872456971630466,-1.81092840424994,-1.7070221609577443,-1.5910393981434736,-1.4856234854962858,-1.4037780251504965,-1.3483340841078462,-1.3161831412912743,-1.2988941485594814,-1.2852476517933897,-1.262896379109451,-1.2199145724584484,-1.1484971051706678,-1.0458289551042788,-0.9142156431560357,-0.7604862383242093,-0.5932202605236294,-0.4206289408522057,-0.24952982126992912,-0.08410260861316914,0.07307489002066693,0.2209011556777737,0.35937224962110514,0.4888353880886359,0.6096889552859204,0.7219815779758636,0.8255222972246067,0.9195726282171265,1.0027835026360545,1.073912898027717,1.1307725642634612,1.1727232553048095,1.1992379883098718,1.2102659135784215,1.2070417259199584,1.1914918470043356,1.1659227307502484,1.132765655930734,1.0943234001866702,1.0525339401772458,1.0088035645540798,0.9642272543174634,0.9193260353548369,0.8744281703252996,0.8296121917874173,0.7848248644001216,0.7399770808663586,0.6949985481577983,0.6498591674541837,0.6045591332479535,0.5592256470986009,0.5140119322636086,0.4691068766757949,0.4247483868691531,0.3811799587646289,0.33862113633629165,0.29734753582035134,0.25751720826508295,0.21926718686631294,0.18273450481986755,0.1480017066047553,0.1151630403421559,0.08417564125266537,0.05499341574857569,0.027570270242178837,0.001818915696075636,-0.022342386828907226,-0.045094445618565446,-0.06662761706393805,-0.08713225755606406,-0.10685185875893041,-0.12594921490527983,-0.1447581660193308,-0.1636480594978984,-0.18298824273779374,-0.20316757171161526,-0.22463159464390373,-0.24797797931073332,-0.2738789734133577,-0.3030672322242736,-0.3364254847977738,-0.3751092638930814,-0.42035856561906826,-0.4735920562635076,-0.5366508822278411,-0.6114200503015076,-0.699942183116969,-0.803905561493554,-0.9253831125889314,-1.0635031593906397,-1.2161005046211528,-1.37689028759649,-1.5346243291694717,-1.6735466689013763,-1.7763340018003024,-1.8298934393941995,-1.8299428646455382,-1.784219166335489,-1.7078188724756367,-1.618194457667647,-1.529211543193602,-1.4495564026412315,-1.3818687639127054,-1.3245733565292983,-1.2731435395423776,-1.2216300075678603,-1.164289370260462,-1.0961752951288748,-1.0147685577541983,-0.9194070401010749,-0.8120422423979153,-0.6956444623131286,-0.5741011591518004,-0.45104745001917873,-0.3295406024843415,-0.2121355027940631,-0.09994887558797713,0.00623470777996873,0.10622810267057893,0.20052652049935496,0.2897426865188256,0.3747093429866856,0.4563374464733027,0.5353593921829121,0.6129683437102714,0.689653660086048,0.7655250260124972,0.8406921261918746,0.9149085725719104,0.987425792133821,1.0565917806481209,1.120776821483486,1.177665983533382,1.2251332924303902,1.2613053144166906,1.284630346390101,1.2944028781926071,1.291194444330446,1.2760010819931322,1.2506800487380103,1.2173438203686724,1.178171640474911,1.134997315674251,1.0892659131262223,1.0421755862302426,0.9943278983549602,0.9461008838042066,0.8976863039657683,0.8490980920941018,0.8003292067589041,0.7513709148709404,0.702281788622326,0.6531545695794373,0.6041510353100685,0.5555138301507451,0.5074832476317906,0.46033813442104043,0.41434500114173745,0.3697505346908576,0.3267554321536438,0.28561178137561527,0.24641367714976076,0.20921867802182015,0.17408434253753322,0.14102389778199667,0.11003934749664995,0.08100770696729975,0.053784372167271784,0.028224739069891834,0.004134114476813923,-0.018646540121201004,-0.04043036461724016,-0.06155421570491504,-0.08235495007783705,-0.10321565404996473,-0.12459220184384688,-0.14707709220371387,-0.17132123737052873,-0.19803877490060157,-0.2282683526580475,-0.26317782403796425,-0.30404194899750975,-0.3528248440662168,-0.41170907673832974,-0.48324387785461903,-0.5708826464427283,-0.6783304857888364,-0.8096325085510975,-0.9683542482793955,-1.1561066539292506,-1.3697414450350198,-1.598285553380549,-1.8183625336860472,-1.9972131929962964,-2.102719230508666,-2.1180032356166203,-2.053679977572823,-1.9409983486631197,-1.8157409452223738,-1.7049244458145998,-1.6212363828846643,-1.5651015254580278,-1.5281512644277582,-1.495990828862461,-1.4526583926971377,-1.3837519439521497,-1.2816575275899407,-1.144866478734999,-0.9796517327908103,-0.7960147751905283,-0.6044056982452956,-0.41374139603659255,-0.22923667053139682,-0.054163779321437934,0.1112125441012872,0.2676534927077829,0.4169174085539207,0.5607154155337778,0.7013198023030378,0.8390051397402866,0.9733907282803724,1.103094919669101,1.2241198926751906,1.3314496542321763,1.4187979034749585,1.4812380392187536,1.5150194593753825,1.5199192088498101,1.499429418050556,1.45897306552373,1.4053378499377407,1.345030374686991,1.28279023223371,1.2220489626796418,1.164148543751304,1.1093776083322555,1.0569205607884562,1.0055317750868418,0.9537921245031806,0.9004930028477596,0.8445554404731995,0.7854537161455935,0.7232471606842055,0.6581362454064653,0.5907699685158104,0.5220488434811938,0.4528755906653451,0.38423535132837555,0.316915752053705,0.25160704402574646,0.188929931260098,0.12927017654045833,0.0727637262796389,0.019542850651870957,-0.030371963808597583,-0.07709183100708528,-0.12085827943906327,-0.16191609338269977,-0.2005520024448058,-0.23708689693070986,-0.2719285883274121,-0.3054848881219068,-0.3381636078011884,-0.3703647841924235,-0.4025915257679181,-0.43531323577038006,-0.4689990732786041,-0.5041181973713853,-0.5411397671275182,-0.5805226767806823,-0.6227105062115638,-0.6680129690046296,-0.7165990463203806,-0.7687282959443101,-0.8240594645427628,-0.8820529420480642,-0.9419044016579476,-1.002439870470201,-1.06159735373533,-1.117379251481972,-1.1671166655841112,-1.2084512352356078,-1.2393204901249828,-1.258010579932631,-1.263747104036212,-1.2570506935470345,-1.23887891261183,-1.211049493772507,-1.1756102128711745,-1.1346722558653854,-1.0899727062797124,-1.0428813687027025,-0.9945117456911936,-0.9454025633556463,-0.8958982401073222,-0.8461617334002277,-0.7962124986094333,-0.7460615317843372,-0.6957211195263446,-0.6452990468962211,-0.5949249241375333,-0.5447968664570411,-0.49518095336182544,-0.44633876402513295,-0.39858923098846394,-0.35219369784665555,-0.3073775424366207,-0.264362662941965,-0.2233261938783683,-0.18442871674147776,-0.14768455456926113,-0.11310803039968616,-0.08069455129306302,-0.05041073265946526,-0.02213844881399909,0.00429902559082044,0.02907841590246723,0.052419732311683565,0.07451558232765913,0.09570506684706276,0.1163625193004539,0.13686227311839186,0.15764880883943783,0.17926117485182988,0.20238371885476603,0.22770165980473378,0.256197345533533,0.28909099909406405,0.3277541598983344,0.3740850297310815,0.4302324817071424,0.49928572199221455,0.5848143165222113,0.6911573630991896,0.8234541377626062,0.9867462654386401,1.1847907098700647,1.4166834059316906,1.6731619446852262,1.9290313013599278,2.144973778093061,2.277273047302555,2.3010683200677207,2.227161273555189,2.096241674784313,1.9549709130309132,1.8364955892463102,1.7556938261312176,1.7102044502003697,1.6865815180076411,1.6635893640190198,1.6194480353220673,1.5357166111877707,1.4043920851216984,1.2290566661902038,1.0221772689578936,0.7992327684945635,0.5734646317525911,0.35435508212664507,0.14584981233451488,-0.05077485621451439,-0.23719757194559027,-0.41593053449073286,-0.5896021699874457,-0.7600383903925825,-0.9279136766895532,-1.0902557453289834,-1.242557820282132,-1.3766245151088818,-1.4831785745531811,-1.5536938491404926,-1.5842696570855952,-1.5757559810863841,-1.5359064743561675,-1.4748220055468084,-1.4032838378155572,-1.3300980042479893,-1.2609747487072027,-1.1985280277141375,-1.1428757413279342,-1.0924323513051295,-1.0445770415487154,-0.9960880994665229,-0.944442139682896,-0.8873489304758477,-0.8233806862240846,-0.7522510371471832,-0.6745008447552744,-0.591398241180043,-0.5046366314104838,-0.4161298305842512,-0.3276069230155537,-0.24057652844017388,-0.15640348177575797,-0.07585573532887611,0.0005838681526336636,0.07254132143631804,0.13997428203349915,0.20308052489867395,0.2620933336835976,0.3173508194673177,0.36928142303963024,0.41832322180622394,0.4648557905249359,0.5094187521680567,0.5524580221360834,0.5942707191759958,0.6351539620347735,0.675404869459396,0.7151520024878819,0.7548062596475842,0.7942552496322297,0.8332377243415084,0.87149243567511,0.908759910123576,0.9446254554467978,0.9783736129178342,1.0093119597284348,1.036748073070349,1.0599895301353262,1.0784375439804437,1.0913611509166687,1.0985534644093897,1.1000051951562273,1.0957377271681161,1.0859681499787992,1.071191631049049,1.052007141249926,1.0290053432937252,1.0028102520873814,0.9740722920423537,0.9432729987629637,0.910893907853533,0.8773568837869279,0.8430446603619142,0.8082184381802896,0.7731332112664009,0.7380325493631414,0.7031298632172734,0.6686215260987969,0.6347001115936027,0.6015564465022448,0.5693699779554664,0.5383153895455111,0.508563295953214,0.4802715129014423,0.45358707677224347,0.4286521576954722,0.40559295872307966,0.3845262982966795,0.3655680990841217,0.34882109892152524,0.33439554153477014,0.322408040990925,0.3129663330161746,0.3062198945653273,0.3023466493304702,0.3015550467677324,0.30407132614889026,0.31028481884607834,0.32063980939209574,0.33558064941054255,0.35592679685714745,0.38263694918534397,0.4167954116963673,0.4599040760832208,0.5139913032324548,0.5812975321549565,0.6646287832101031,0.7672735213006445,0.8924731935018484,1.042831730047179,1.2193703714980333,1.4179459021112526,1.6283370500129222,1.829635711532455,1.993905244562883,2.093367755928163,2.1135197761613305,2.0614113885871523,1.9622671387708368,1.8465927012070935,1.7387207885405285,1.6519899135125182,1.5886043361960969,1.5433632329161215,1.505649525954635,1.4617402203926577,1.4010033760455174,1.3144598399579763,1.199168065096468,1.058212682636111,0.8983153258241208,0.7279157273582324,0.554866425318504,0.3849942020987539,0.22219885407206327,0.06780053813838693,-0.07780749519090413,-0.21563074647959327,-0.34699034911286586,-0.47372698984415157,-0.5969654177323257,-0.7174870978436906,-0.8358936594086573,-0.9508492012909795,-1.0600085906632377,-1.1602017130844653,-1.2468991118694415,-1.315782106088481,-1.3629948113837038,-1.3863863087667396,-1.3867498435430736,-1.3663991492829568,-1.329903967992109,-1.2822339203885518,-1.2281240946677348,-1.1713478961459312,-1.114447964492596,-1.0588283693201446,-1.0048586618348434,-0.9522365002750501,-0.9003043004154778,-0.8482545214277247,-0.795278510872917,-0.7408097413959603,-0.6846278392569741,-0.6266312119357722,-0.5670323238624789,-0.5063374640259068,-0.44507703634229207,-0.383907396083263,-0.32345150200597383,-0.2642782808288581,-0.20696164420414412,-0.15188992157748285,-0.09928827982044529,-0.04937386122640535,-0.002276923061006029,0.04198663766717105,0.0835526630108061,0.12255699502257938,0.15917215211792188,0.19361728088600622,0.22621148946035893,0.25728537741263147,0.28721658306058023,0.31630553932914907,0.3449645139543719,0.37371621768323116,0.4030833612627093,0.4335886554397889,0.4657387867117908,0.50014474398511,0.537541418316245,0.5786116869712,0.6240384272159791,0.6745045163165863,0.730570405588601,0.7929836996170536,0.8622259918633987,0.9376341237486328,1.0185415917412572,1.1036948124087083,1.1903448154984237,1.274842719112854,1.352508807024577,1.41834846591428,1.4674209343929543,1.4962200814448672,1.5038481940679749,1.4907088383174563,1.4602061687227479,1.4166284237788802,1.3645023709951545,1.3077358200397424,1.249422264348583,1.1912319404191045,1.134060678171004,1.0778313015606034,1.0221159964443327,0.9662333420359759,0.909524563949955,0.8514553141787023,0.7918466805454215,0.7306552927298734,0.6681691555741813,0.6048653387976698,0.5413264306782997,0.478193419297536,0.4160850384444275,0.3555545004655481,0.2971781785462435,0.24121604861499701,0.18791238142172093,0.13744505783990005,0.0899111680070106,0.04518344740561211,0.0031014788438987386,-0.036517508893976085,-0.07390127756022455,-0.10940060816742493,-0.1434304417772406,1.1089141478228028,1.046556629819284,0.9793339332317784,0.9076706266311068,0.8324330452003681,0.7548252755691662,0.6761382617028274,0.5977367542371693,0.520704459599243,0.44596462874003356,0.3742640823663773,0.30615728048677104,0.24177931061276117,0.1812602341448745,0.12459627852039876,0.07160675688301615,0.02199380602512991,-0.024548728360121414,-0.06837292191603643,-0.10989601110237547,-0.1495538227268674,-0.18778218359724108,-0.22496283662974004,-0.261580092388302,-0.2981833150842149,-0.33509364128906866,-0.37263220757445314,-0.41112015051195816,-0.4508786066731737,-0.4919916025677271,-0.534973196889405,-0.5795127068536244,-0.6252117398017256,-0.671671903075048,-0.7183634247019463,-0.7644884746868724,-0.8087727548519452,-0.8498604207042609,-0.8863956277509158,-0.9171510009308941,-0.9405218980186661,-0.955783850889389,-0.9626146841928602,-0.9608071829735915,-0.950599625017227,-0.9328946539417529,-0.9087428348544411,-0.8791824000655946,-0.8454157000618416,-0.8083943725164671,-0.7689715451634093,-0.7279054428132697,-0.6856947982002928,-0.6426940963690639,-0.5992314479786061,-0.5555273197330477,-0.5117592123532253,-0.4681043166363802,-0.42473795319716195,-0.38184941612873474,-0.33962837794612166,-0.2982879038184247,-0.25802528375444767,-0.21903199616724733,-0.18149510482033465,-0.14558731224171093,-0.11146798002646374,-0.07923176315767345,-0.04897331661841938,-0.02077325578021361,0.005308960987562501,0.029268483555630925,0.05111256050705278,0.07084856232474371,0.08850104163699507,0.10411873592927713,0.11775090493331726,0.12944680838084288,0.1392556674737509,0.14722632720154705,0.15338352916889228,0.15773935206812922,0.1602787282323179,0.16092677834484198,0.15958962502538193,0.1560488157490195,0.14999087945246256,0.1410213858463488,0.12840427622764378,0.11122029024596133,0.08816391104387047,0.05713521247769033,0.015446168629210236,-0.04112799508954596,-0.11849327321830778,-0.22541522171523898,-0.3745587016262257,-0.5833638053114172,-0.8747592103878198,-1.2719003927020405,-1.7806654809600473,-2.350656792262547,-2.8263606313089906,-3.0072532923102564,-2.8446813469331014,-2.514570401024267,-2.2343224577240646,-2.1154876488645833,-2.1621008172930103,-2.2969261039367876,-2.3792228678363903,-2.264527824550488,-1.9048778050428175,-1.3798984880556902,-0.8075409544556023,-0.26028552705567637,0.24487916862531153,0.7249331335454499,1.2070302310756518,1.7091028117883253,2.2167140143448263,2.660853792758349,2.9302176301746394,2.950681402024541,2.76687140843365,2.5083834084450896,2.292497951331996,2.178496297748532,2.173996176131596,2.2496940719833214,2.345213859512331,2.3777403250735634,2.275025763080335,2.013977881032088,1.632824496594682,1.1959456682927476,0.7552777572307845,0.3345581510632199,-0.06314611127513063,-0.44503246009173086,-0.8175396060245879,-1.1777777266065068,-1.5059522003648398,-1.7650918548943844,-1.9136721388011755,-1.9346219036951469,-1.847588767238682,-1.7014666582414664,-1.5479543299570608,-1.422686182578574,-1.3419229524799359,-1.3070510570498575,-1.3071875663844335,-1.3241624659069524,-1.3334604976141002,-1.3088677243542257,-1.2319481107963264,-1.0941835768409778,-0.9023944394188737,-0.6728850914944037,-0.42446020203168355,-0.1732404929447916,0.07123045904605965,0.30358325484395476,0.5228179540294213,0.7293897816196164,0.9238339378020984,1.1064120007394755,1.2744088116786012,1.423848489147535,1.548519858019568,1.642688123296976,1.7015724361633953,1.7240206632139266,1.713414648466239,1.6764185798201714,1.6217225498946737,1.5579788923981923,1.4918642714258912,1.4283640453767477,1.3696575363621997,1.3165967423388092,1.2682903314636742,1.2232433131261362,1.179457397360212,1.1349438086426868,1.0878235920042811,1.0368256596921759,0.9811535052667463,0.9204709699924284,0.8553327562330374,0.7864293166150076,0.7148582273951385,0.6418568885063606,0.5686401895041879,0.4964053395129939,0.42605649425570524,0.35834769804294514,0.2939033994267853,0.23308641387201434,0.1760163899418851,0.12280557918725385,0.07344419292254795,0.027769478308886084,-0.014420451071922328,-0.05334967252608481,-0.08929152115615308,-0.12255118252653661,-0.15343384220164127,-0.18224468574587666,-0.20925833568017252,-0.23485220935122195,-0.25931286297009304,-0.28292342483329236,-0.3059670232373269,-0.328726786478703,-0.35145747145995315,-0.37436038431513957,-0.3979101916592279,-0.42220914163351736,-0.4473594823793069,-0.47346346203789635,-0.500623328750583,-0.5289401239165563,-0.5583446928298972,-0.5888917847613048,-0.6202020634827323,-0.6518961927661328,-0.6835933709310074,-0.714803734630456,-0.7448461113510374,-0.7729613434947061,-0.7983902734634163,-0.8203984114125423,-0.8382732323437612,-0.8512058035186202,-0.8589852513958725,-0.8614007024342722,-0.8583339639984869,-0.8498553154369187,-0.8363986588899092,-0.8184813557241079,-0.7966141097735367,-0.7713741904633823,-0.7434089767062909,-0.7132023416713158,-0.681238158527509,-0.6479578948069318,-0.6137722369519814,-0.5789771022702902,-0.5438332154628697,-0.5086000137289691,-0.47351053164960544,-0.4387770686540325,-0.4045988116664003,-0.3711727577491274,-0.3386924451431367,-0.30733757235208686,-0.2772854425861843,-0.24870595519071845,-0.22175636913499186,-0.19658758361281164,-0.1733392702158108,-0.15214358564476735,-0.13312721396402494,-0.11641332949940912,-0.1021295416359932,-0.09040069187573214,-0.08137616521568972,-0.07523985326507245,-0.07213879343127577,-0.07233407247881733,-0.07616181666947984,-0.08401867252598437,-0.09623784051157647,-0.11351003582768392,-0.13669114441169258,-0.1667713810750183,-0.20468901838733733,-0.2521838434435235,-0.3112678777448812,-0.3840146309687012,-0.47302057226605404,-0.5810004184508548,-0.7103663636761143,-0.862396379125805,-1.035756984156832,-1.2243615822157863,-1.4154035600264372,-1.5886932814497328,-1.720100325776524,-1.7893419980345804,-1.7898262596216434,-1.7315910596176824,-1.6370135733786517,-1.53049531296458,-1.430767273784192,-1.3477206979886907,-1.2828995563362482,-1.2320991157469279,-1.1872596949147107,-1.1377635508958832,-1.0754685305610405,-0.9942302029700114,-0.8907916756943933,-0.7669436604591822,-0.6271561110011077,-0.47753372724674725,-0.32408210334962256,-0.17217400750642867,-0.024986311659536773,0.11525052240760977,0.24769643403995106,0.3726963947107878,0.4909331028964643,0.6036019022234216,0.7118015279291129,0.817092760587202,0.9201931839716014,1.0212522757123408,1.1202495089754574,1.2165506844652123,1.3080017081046071,1.3921348283565185,1.4656656339206917,1.5254024441649436,1.5687056928350034,1.59345892882649,1.5996468126691967,1.5885804816494467,1.5627593684481063,1.5255943120820101,1.4805312315528283,1.430694473306546,1.3783714526846118,1.3253589084960373,1.2724004402136173,1.2198872774849798,1.1677572306354203,1.1157250174006297,1.063430725154687,1.0106126089520546,0.9570756021463181,0.9027623699348589,0.8478294092101126,0.7925010038468971,0.7371189848204188,0.6820985209916188,0.627836194089693,0.5747903341840301,0.5233029514139765,0.4736468982663141,0.4260758939008717,0.38080849572283765,0.337947442868237,0.29746654634301495,0.25933961715311377,0.22350520826634682,0.18986753513229032,0.15821122286624534,0.12829041945929734,0.09985927290253165,0.07260726951187751,0.04627417182333983,0.020408508920147596,-0.00544199054641294,-0.03174567758216077,-0.05904003124224824,-0.08780227654358264,-0.11887620870128271,-0.15310562293046728,-0.1913594662685021,-0.23461822594844578,-0.2840536570185399,-0.3410889510495106,-0.40714729961208346,-0.48364605284713247,-0.5719720072836895,-0.6730192748544914,-0.7871310744417591,-0.9125864818568715,-1.0463491319702767,-1.1813254381149907,-1.3081681809293957,-1.4150031733000756,-1.4904232406914835,-1.526415178586994,-1.5221325085112851,-1.482994193613997,-1.4195262106957165,-1.3434125021660916,-1.2644706024308834,-1.1893756257450518,-1.1207953434358167,-1.058861469981934,-1.0013464085606696,-0.9450613321039133,-0.8866743958378988,-0.8231566430575171,-0.7525543096253292,-0.6739456706000625,-0.5878162586223531,-0.4954358873462015,-0.3987494009759994,-0.2999841305864411,-0.2011691457790542,-0.10417939929891476,-0.010458039884648477,0.07923182334124954,0.16424565259721824,0.24434168820973454,0.31975786738872286,0.39079677638311555,0.45790176318761827,0.5217105764227774,0.5829061819273584,0.6421009855740869,0.7002311429402635,0.7578971977006814,0.8156778745207185,0.874151898065752,0.933632413282019,0.9949333001426927,1.0577418746079594,1.121493068351863,1.1856218130484468,1.2491967556152421,1.3106465270233498,1.3678755789278523,1.4188962184399494,1.4611169357858154,1.4928575851839005,1.5128589081613213,1.5203239740454513,1.5152819457586897,1.4991558440956916,1.4734045043492265,1.439960017919865,1.4007339157027638,1.3574543905787648,1.311634295187048,1.2641748212896573,1.2158068704524607,1.1669621609185081,1.1177937685719976,1.0684096126904992,1.0188467807799555,0.9691600763258148,0.9194087634859938,0.8697489115695473,0.8203753317662474,0.7715000924309493,0.7233877980023161,0.6763025967421167,0.6304880279989751,0.5862217263888143,0.543711213980902,0.5030803089063395,0.46445282929622744,0.4279256505279901,0.3935761823441093,0.36137392760546344,0.33123822340321446,0.30308840682852406,0.27681071647951144,0.252292789860395,0.22931423773159063,0.2076207989714652,0.18695821245838562,0.16703947886271697,0.14753205950314036,0.12799516398413288,0.10794550955394415,0.08688984876885981,0.06409947118196178,0.038722603892388054,0.009833901824215143,-0.023800417635091997,-0.06392196932781187,-0.11244468649090436,-0.17189531977181044,-0.2457492411235704,-0.3379398280137426,-0.4537337947831299,-0.5989350640409633,-0.7792038622586568,-0.999469775653515,-1.256423602125394,-1.5386081509320717,-1.8120061760090211,-2.028696104204312,-2.1404042557240706,-2.1290481224261466,-2.0202169109842734,-1.86716818521912,-1.7208099050766168,-1.6110966414783394,-1.5464931497783883,-1.5180476178546474,-1.504691122187288,-1.4790001093996024,-1.4161292047604235,-1.299032787260359,-1.1261727880378143,-0.9091951598060989,-0.666485966488507,-0.416181370632614,-0.17045421350860848,0.06351724571772224,0.28443330607605993,0.49362606557238314,0.6941562544713132,0.8897073929352761,1.0823438371672978,1.2716477175679506,1.4550602127117107,1.624653365298998,1.7696642000295866,1.878179268167322,1.9405918903836574,1.954251092886934,1.9246684042243576,1.8636882572943394,1.7856485394288237,1.7031453431181511,1.625342706743988,1.5565507536932202,1.4979330273538298,1.4474329487162694,1.4016444741803122,1.3562602786874463,1.3070151836684103,1.2502805924200686,1.1838768007560998,1.1067498779304814,1.0196786994291698,0.9242899229361309,0.8231014753705944,0.7188414798446625,0.61409438596594,0.5109587146813958,0.41127608760911516,0.31606902788573554,0.22591724617753384,0.14120906329483315,0.0618942530353602,-0.012333030276897498,-0.0818014932015663,-0.14701600544618204,-0.20844909718069884,-0.2665636260398969,-0.32170977682805907,-0.3744797851266451,-0.42511926436615094,-0.47366285720872175,-0.520145206316506,-0.5645802797736482,-0.6068366058264161,-0.6465973850298508,-0.6833569298234833,-0.7166095526468444,-0.7458590630429627,-0.7706855037310758,-0.7902162872694283,-0.8043385827277041,-0.8129395591755877,-0.8159063856827634,-0.8132734630643895,-0.8052599055977869,-0.7923966693814708,-0.775232008469511,-0.7543141769159772,-0.7301701560946068,-0.7034466984537621,-0.6746153715183113,-0.6441175248610024,-0.6123728619400366,-0.5797683962559445,-0.5465889813482928,-0.5130792871145128,-0.4794852988929412,-0.4460438651126728,-0.4129494071276591,-0.38039510489950523,-0.3485734488509628,-0.3176638570803657,-0.28784066578837036,-0.25927540684527967,-0.23212565023935824,-0.20654258597595912,-0.182672814230348,-0.16064869663866238,-0.14059693690755826,-0.12264657325697102,-0.10691042585732269,-0.09351598745674673,-0.08260025832705147,-0.07431575820963052,-0.06879182993534756,-0.06625862961544707,-0.06696857718047096,-0.07123474715032715,-0.07933736270090616,-0.09186261726767692,-0.10942424713692431,-0.13278071917923104,-0.16279329725157776,-0.20089192541741624,-0.24859091193725902,-0.3076080163944828,-0.3803761927381952,-0.469535155983752,-0.5777508134257767,-0.707419025432272,-0.8603619285045091,-1.0345231069057501,-1.224974068578082,-1.4177949589037488,-1.5932130541992422,-1.726418856074371,-1.796830825900499,-1.7973782681397608,-1.7384521913905615,-1.6428261898184109,-1.5353157680652019,-1.4351820078767958,-1.35199428520162,-1.287631544595881,-1.237334272603499,-1.1927320451032115,-1.144135154535178,-1.081209226097763,-0.9988750924282955,-0.8940798803452552,-0.7683043303092527,-0.6264580072639405,-0.47479467639539347,-0.31958435062192836,-0.16583899688886414,-0.01738276762703891,0.1240687451149912,0.2577360768076494,0.3837560037510689,0.5031116225279293,0.6168858206153942,0.7265539944133964,0.8330774840647401,0.937223135525849,1.0398174685372992,1.140231144483936,1.237121723214381,1.3288245516374184,1.4123858406914318,1.4845039698470548,1.5420372413526378,1.5817516205296305,1.6026260381606556,1.6048219193988504,1.5897144545763264,1.56045667311622,1.5205365460527511,1.4735094994954434,1.4223022346608616,1.3692948055133078,1.3158403560872374,1.262745964347282,1.2101652526994566,1.1579495409699567,1.1057581159484913,1.0532307141834716,1.0000450030270953,0.9460647713628386,0.8912784887982416,0.8358143983788047,0.7799950855557212,0.724166697663193,0.668763054955858,0.6142132381414567,0.5609065524159123,0.5092901839374567,0.45961709647646876,0.41207902694422954,0.3668577780216159,0.3240703983552928,0.2837578656256815,0.2458164016467334,0.2101422282324,0.17660693946636374,0.14505564986439323,0.11523188310215579,0.08683077454780384,0.059547459569489654,0.03298535219446033,0.006919153321918468,-0.019173765878217865,-0.04586043686213935,-0.07370789108603683,-0.10332534100383466,-0.13542584996859952,-0.17057294901377967,-0.20991705075442807,-0.2546085678055978,-0.30579791278234186,-0.36454985185816974,-0.4325495606807566,-0.5110784054497618,-0.6010573181259005,-0.7032313352427152,-0.8177084757155184,-0.9420582061935496,-1.0723737904241109,-1.2015954936863278,-1.3199586320066514,-1.4157677699525297,-1.4797207756459894,-1.5053150152141057,-1.493213997920826,-1.4497324663602256,-1.3850973829978028,-1.3101780951037219,-1.2333983004513194,-1.1605483854344965,-1.0936200482318368,-1.032480872063594,-0.9749712624712207,-0.9181043542401396,-0.8589632610031983,-0.7950427436955831,-0.7243817090900208,-0.646737229434157,-0.5624066045884296,-0.4726472423731754,-0.3792618454400517,-0.2842526770180519,-0.18943978418715687,-0.09654553283594211,-0.006822311082233807,0.07902142223470394,0.1603929113020782,0.23706085593627851,0.3092419389739123,0.37721150355499494,0.44136741012564107,0.5022991351446845,0.560654897555728,0.6170311975741889,0.6722758366793384,0.7270405545046116,0.7819370339709543,0.8375769579993122,0.8945213460565901,0.9532713583336462,1.0139145981970172,1.0763518943072978,1.140384519797414,1.2050789793005128,1.2691170677390728,1.3309103757504699,1.388281959672174,1.438884439317606,1.4804614121622928,1.5107487094977508,1.5287912011361395,1.5338796435321767,1.5262622778499542,1.5074717487627716,1.4791628494017592,1.443448860506163,1.402267411108477,1.3573924892822997,1.3102735997352122,1.2617543931174127,1.212523317517804,1.1629139464825693,1.1130387432685933,1.0629615693809344,1.0126975015604807,0.9622909210481156,0.9117996742454733,0.8613984402114326,0.8112906455877862,0.7617065462827627,0.712926546830555,0.665226186425166,0.6188538745576865,0.574108378764585,0.5311749670848991,0.4901789607608176,0.4512456810345299,0.41446080995593504,0.3798948401385279,0.3474879137642648,0.3171516816457945,0.28879779459576543,0.26229082081389327,0.23750545423546282,0.21418627029705417,0.19206357038825095,0.17086765589863695,0.1502282903155446,0.12991484374126067,0.1093631145103074,0.08800273427189154,0.06524689674496319,0.04041896519145894,0.012619096844091378,-0.01938030170856251,-0.056969306165147456,-0.10162500904671196,-0.15589844466982955,-0.22260292216726768,-0.30489268841368716,-0.40735802359135165,-0.5351481409766877,-0.6933964035756495,-0.8866042184542771,-1.1157838830737576,-1.3737880591972167,-1.639648461856868,-1.8760920527978624,-2.0373050879573538,-2.0897484126984676,-2.035523914013187,-1.9108272856730384,-1.7645927191392956,-1.6356163840348188,-1.5437012250363298,-1.4899404498085205,-1.4628962645679162,-1.4422165582448447,-1.4044648123964578,-1.329548516732964,-1.205949551621873,-1.0351463609922937,-0.8284145755080924,-0.60165079554659,-0.36932648012806935,-0.1424020953664477,0.0742394203941416,0.278607457470629,0.4720954644445795,0.6571344406046871,0.8365749429046373,1.012418960482236,1.1859034006695963,1.3542441739096795,1.5132281765013804,1.6547978610689025,1.7693492683638403,1.8475062765990673,1.884667137045117,1.8806793021380113,1.843087904068977,1.7821422250917758,1.709203133422024,1.6338182699839676,1.5622708848927658,1.4976684053010985,1.4402970117391867,1.3886763895623082,1.3400936301245194,1.291171732610484,1.2391689997676782,1.1816179853764432,1.116880712821214,1.0445565916652155,0.9651272532934273,0.8798766472201619,0.7905662291385656,0.6992103881234706,0.6076477201943781,0.5174942551689139,0.4302210705216867,0.346630547768912,0.26727838593847913,0.19256548517380784,0.12253436846925315,0.056992344825013794,-0.004292858760659581,-0.0616769842215758,-0.11560198411130378,-0.16651558082990786,-0.21479250288739077,-0.2610421712688125,-0.30564239931410103,-0.3489000351692902,-0.39112192698041365,-0.43261343286445875,-0.47346338442306307,-0.5140981161322712,-0.554265077812074,-0.593711719282463,-0.6321854903634289,-0.669425839020608,-0.7048858136726479,-0.7378715058132055,-0.7677131787340321,-0.7937410957268785,-0.8152855200834955,-0.8318047022730584,-0.8426389073950568,-0.847756748948581,-0.8471538488161316,-0.8409086786992275,-0.8293282511534144,-0.8129665795454069,-0.7924124444580835,-0.7682347327828637,-0.7411068263112659,-0.7115859830196494,-0.6801508645425035,-0.6472682419845137,-0.6133536567556588,-0.5787448621949396,-0.5437006762949947,-0.5084799170484628,-0.4733189504884095,-0.4384311049288244,-0.40401345997136245,-0.3702611334063432,-0.3373661094108954,-0.3055073298946804,-0.2748607710787902,-0.24559668467520446,-0.21787095473671325,-0.19183245452899625,-0.16762223546000093,-0.1453659214805099,-0.1251871964884773,-0.10720076980486759,-0.09151995511144369,-0.07826533316227674,-0.06756416289486047,-0.05954010978274654,-0.0543779501421466,-0.05228536686680318,-0.05346500785216311,-0.058262959954965804,-0.0670947038895649,-0.08047876268309823,-0.09893109840363049,-0.12346712900813371,-0.15518064786364172,-0.19520736427899674,-0.2453014071374268,-0.3077995757926797,-0.38508252689510614,-0.48008705868026835,-0.5959421883906341,-0.7354268520482097,-0.8999549285514615,-1.087733969296468,-1.2911511084761773,-1.4943014862826858,-1.672992789596254,-1.7997628793168272,-1.8537582269652235,-1.8330988503863652,-1.7544419237673794,-1.645709845447845,-1.5335626257555939,-1.4355730716299078,-1.359477396328083,-1.3033030460481139,-1.2598110298457255,-1.2181059529557274,-1.16547129060088,-1.0934135401356162,-0.9961753743013932,-0.8729424312019375,-0.7280882631563947,-0.5685705568667908,-0.40192458120586594,-0.23509511072404232,-0.07250622947833746,0.0828018887112954,0.22962937465104258,0.3682444439365421,0.49944475817162604,0.6246416329390263,0.7451064214654237,0.8626680603957628,0.9777035335645946,1.0903139659318255,1.2000367388889637,1.3051254829002281,1.4024242200943602,1.4884430022226225,1.558847234356882,1.610348331861042,1.6402944190062596,1.6483611972269998,1.6362635554861122,1.6072282634384776,1.5656026884511192,1.5157632858440495,1.4614671898711549,1.4055519521638484,1.3497942345264733,1.2950017042865563],\"yaxis\":\"y\",\"type\":\"scattergl\"}],                        {\"template\":{\"data\":{\"bar\":[{\"error_x\":{\"color\":\"#2a3f5f\"},\"error_y\":{\"color\":\"#2a3f5f\"},\"marker\":{\"line\":{\"color\":\"#E5ECF6\",\"width\":0.5},\"pattern\":{\"fillmode\":\"overlay\",\"size\":10,\"solidity\":0.2}},\"type\":\"bar\"}],\"barpolar\":[{\"marker\":{\"line\":{\"color\":\"#E5ECF6\",\"width\":0.5},\"pattern\":{\"fillmode\":\"overlay\",\"size\":10,\"solidity\":0.2}},\"type\":\"barpolar\"}],\"carpet\":[{\"aaxis\":{\"endlinecolor\":\"#2a3f5f\",\"gridcolor\":\"white\",\"linecolor\":\"white\",\"minorgridcolor\":\"white\",\"startlinecolor\":\"#2a3f5f\"},\"baxis\":{\"endlinecolor\":\"#2a3f5f\",\"gridcolor\":\"white\",\"linecolor\":\"white\",\"minorgridcolor\":\"white\",\"startlinecolor\":\"#2a3f5f\"},\"type\":\"carpet\"}],\"choropleth\":[{\"colorbar\":{\"outlinewidth\":0,\"ticks\":\"\"},\"type\":\"choropleth\"}],\"contour\":[{\"colorbar\":{\"outlinewidth\":0,\"ticks\":\"\"},\"colorscale\":[[0.0,\"#0d0887\"],[0.1111111111111111,\"#46039f\"],[0.2222222222222222,\"#7201a8\"],[0.3333333333333333,\"#9c179e\"],[0.4444444444444444,\"#bd3786\"],[0.5555555555555556,\"#d8576b\"],[0.6666666666666666,\"#ed7953\"],[0.7777777777777778,\"#fb9f3a\"],[0.8888888888888888,\"#fdca26\"],[1.0,\"#f0f921\"]],\"type\":\"contour\"}],\"contourcarpet\":[{\"colorbar\":{\"outlinewidth\":0,\"ticks\":\"\"},\"type\":\"contourcarpet\"}],\"heatmap\":[{\"colorbar\":{\"outlinewidth\":0,\"ticks\":\"\"},\"colorscale\":[[0.0,\"#0d0887\"],[0.1111111111111111,\"#46039f\"],[0.2222222222222222,\"#7201a8\"],[0.3333333333333333,\"#9c179e\"],[0.4444444444444444,\"#bd3786\"],[0.5555555555555556,\"#d8576b\"],[0.6666666666666666,\"#ed7953\"],[0.7777777777777778,\"#fb9f3a\"],[0.8888888888888888,\"#fdca26\"],[1.0,\"#f0f921\"]],\"type\":\"heatmap\"}],\"heatmapgl\":[{\"colorbar\":{\"outlinewidth\":0,\"ticks\":\"\"},\"colorscale\":[[0.0,\"#0d0887\"],[0.1111111111111111,\"#46039f\"],[0.2222222222222222,\"#7201a8\"],[0.3333333333333333,\"#9c179e\"],[0.4444444444444444,\"#bd3786\"],[0.5555555555555556,\"#d8576b\"],[0.6666666666666666,\"#ed7953\"],[0.7777777777777778,\"#fb9f3a\"],[0.8888888888888888,\"#fdca26\"],[1.0,\"#f0f921\"]],\"type\":\"heatmapgl\"}],\"histogram\":[{\"marker\":{\"pattern\":{\"fillmode\":\"overlay\",\"size\":10,\"solidity\":0.2}},\"type\":\"histogram\"}],\"histogram2d\":[{\"colorbar\":{\"outlinewidth\":0,\"ticks\":\"\"},\"colorscale\":[[0.0,\"#0d0887\"],[0.1111111111111111,\"#46039f\"],[0.2222222222222222,\"#7201a8\"],[0.3333333333333333,\"#9c179e\"],[0.4444444444444444,\"#bd3786\"],[0.5555555555555556,\"#d8576b\"],[0.6666666666666666,\"#ed7953\"],[0.7777777777777778,\"#fb9f3a\"],[0.8888888888888888,\"#fdca26\"],[1.0,\"#f0f921\"]],\"type\":\"histogram2d\"}],\"histogram2dcontour\":[{\"colorbar\":{\"outlinewidth\":0,\"ticks\":\"\"},\"colorscale\":[[0.0,\"#0d0887\"],[0.1111111111111111,\"#46039f\"],[0.2222222222222222,\"#7201a8\"],[0.3333333333333333,\"#9c179e\"],[0.4444444444444444,\"#bd3786\"],[0.5555555555555556,\"#d8576b\"],[0.6666666666666666,\"#ed7953\"],[0.7777777777777778,\"#fb9f3a\"],[0.8888888888888888,\"#fdca26\"],[1.0,\"#f0f921\"]],\"type\":\"histogram2dcontour\"}],\"mesh3d\":[{\"colorbar\":{\"outlinewidth\":0,\"ticks\":\"\"},\"type\":\"mesh3d\"}],\"parcoords\":[{\"line\":{\"colorbar\":{\"outlinewidth\":0,\"ticks\":\"\"}},\"type\":\"parcoords\"}],\"pie\":[{\"automargin\":true,\"type\":\"pie\"}],\"scatter\":[{\"marker\":{\"colorbar\":{\"outlinewidth\":0,\"ticks\":\"\"}},\"type\":\"scatter\"}],\"scatter3d\":[{\"line\":{\"colorbar\":{\"outlinewidth\":0,\"ticks\":\"\"}},\"marker\":{\"colorbar\":{\"outlinewidth\":0,\"ticks\":\"\"}},\"type\":\"scatter3d\"}],\"scattercarpet\":[{\"marker\":{\"colorbar\":{\"outlinewidth\":0,\"ticks\":\"\"}},\"type\":\"scattercarpet\"}],\"scattergeo\":[{\"marker\":{\"colorbar\":{\"outlinewidth\":0,\"ticks\":\"\"}},\"type\":\"scattergeo\"}],\"scattergl\":[{\"marker\":{\"colorbar\":{\"outlinewidth\":0,\"ticks\":\"\"}},\"type\":\"scattergl\"}],\"scattermapbox\":[{\"marker\":{\"colorbar\":{\"outlinewidth\":0,\"ticks\":\"\"}},\"type\":\"scattermapbox\"}],\"scatterpolar\":[{\"marker\":{\"colorbar\":{\"outlinewidth\":0,\"ticks\":\"\"}},\"type\":\"scatterpolar\"}],\"scatterpolargl\":[{\"marker\":{\"colorbar\":{\"outlinewidth\":0,\"ticks\":\"\"}},\"type\":\"scatterpolargl\"}],\"scatterternary\":[{\"marker\":{\"colorbar\":{\"outlinewidth\":0,\"ticks\":\"\"}},\"type\":\"scatterternary\"}],\"surface\":[{\"colorbar\":{\"outlinewidth\":0,\"ticks\":\"\"},\"colorscale\":[[0.0,\"#0d0887\"],[0.1111111111111111,\"#46039f\"],[0.2222222222222222,\"#7201a8\"],[0.3333333333333333,\"#9c179e\"],[0.4444444444444444,\"#bd3786\"],[0.5555555555555556,\"#d8576b\"],[0.6666666666666666,\"#ed7953\"],[0.7777777777777778,\"#fb9f3a\"],[0.8888888888888888,\"#fdca26\"],[1.0,\"#f0f921\"]],\"type\":\"surface\"}],\"table\":[{\"cells\":{\"fill\":{\"color\":\"#EBF0F8\"},\"line\":{\"color\":\"white\"}},\"header\":{\"fill\":{\"color\":\"#C8D4E3\"},\"line\":{\"color\":\"white\"}},\"type\":\"table\"}]},\"layout\":{\"annotationdefaults\":{\"arrowcolor\":\"#2a3f5f\",\"arrowhead\":0,\"arrowwidth\":1},\"autotypenumbers\":\"strict\",\"coloraxis\":{\"colorbar\":{\"outlinewidth\":0,\"ticks\":\"\"}},\"colorscale\":{\"diverging\":[[0,\"#8e0152\"],[0.1,\"#c51b7d\"],[0.2,\"#de77ae\"],[0.3,\"#f1b6da\"],[0.4,\"#fde0ef\"],[0.5,\"#f7f7f7\"],[0.6,\"#e6f5d0\"],[0.7,\"#b8e186\"],[0.8,\"#7fbc41\"],[0.9,\"#4d9221\"],[1,\"#276419\"]],\"sequential\":[[0.0,\"#0d0887\"],[0.1111111111111111,\"#46039f\"],[0.2222222222222222,\"#7201a8\"],[0.3333333333333333,\"#9c179e\"],[0.4444444444444444,\"#bd3786\"],[0.5555555555555556,\"#d8576b\"],[0.6666666666666666,\"#ed7953\"],[0.7777777777777778,\"#fb9f3a\"],[0.8888888888888888,\"#fdca26\"],[1.0,\"#f0f921\"]],\"sequentialminus\":[[0.0,\"#0d0887\"],[0.1111111111111111,\"#46039f\"],[0.2222222222222222,\"#7201a8\"],[0.3333333333333333,\"#9c179e\"],[0.4444444444444444,\"#bd3786\"],[0.5555555555555556,\"#d8576b\"],[0.6666666666666666,\"#ed7953\"],[0.7777777777777778,\"#fb9f3a\"],[0.8888888888888888,\"#fdca26\"],[1.0,\"#f0f921\"]]},\"colorway\":[\"#636efa\",\"#EF553B\",\"#00cc96\",\"#ab63fa\",\"#FFA15A\",\"#19d3f3\",\"#FF6692\",\"#B6E880\",\"#FF97FF\",\"#FECB52\"],\"font\":{\"color\":\"#2a3f5f\"},\"geo\":{\"bgcolor\":\"white\",\"lakecolor\":\"white\",\"landcolor\":\"#E5ECF6\",\"showlakes\":true,\"showland\":true,\"subunitcolor\":\"white\"},\"hoverlabel\":{\"align\":\"left\"},\"hovermode\":\"closest\",\"mapbox\":{\"style\":\"light\"},\"paper_bgcolor\":\"white\",\"plot_bgcolor\":\"#E5ECF6\",\"polar\":{\"angularaxis\":{\"gridcolor\":\"white\",\"linecolor\":\"white\",\"ticks\":\"\"},\"bgcolor\":\"#E5ECF6\",\"radialaxis\":{\"gridcolor\":\"white\",\"linecolor\":\"white\",\"ticks\":\"\"}},\"scene\":{\"xaxis\":{\"backgroundcolor\":\"#E5ECF6\",\"gridcolor\":\"white\",\"gridwidth\":2,\"linecolor\":\"white\",\"showbackground\":true,\"ticks\":\"\",\"zerolinecolor\":\"white\"},\"yaxis\":{\"backgroundcolor\":\"#E5ECF6\",\"gridcolor\":\"white\",\"gridwidth\":2,\"linecolor\":\"white\",\"showbackground\":true,\"ticks\":\"\",\"zerolinecolor\":\"white\"},\"zaxis\":{\"backgroundcolor\":\"#E5ECF6\",\"gridcolor\":\"white\",\"gridwidth\":2,\"linecolor\":\"white\",\"showbackground\":true,\"ticks\":\"\",\"zerolinecolor\":\"white\"}},\"shapedefaults\":{\"line\":{\"color\":\"#2a3f5f\"}},\"ternary\":{\"aaxis\":{\"gridcolor\":\"white\",\"linecolor\":\"white\",\"ticks\":\"\"},\"baxis\":{\"gridcolor\":\"white\",\"linecolor\":\"white\",\"ticks\":\"\"},\"bgcolor\":\"#E5ECF6\",\"caxis\":{\"gridcolor\":\"white\",\"linecolor\":\"white\",\"ticks\":\"\"}},\"title\":{\"x\":0.05},\"xaxis\":{\"automargin\":true,\"gridcolor\":\"white\",\"linecolor\":\"white\",\"ticks\":\"\",\"title\":{\"standoff\":15},\"zerolinecolor\":\"white\",\"zerolinewidth\":2},\"yaxis\":{\"automargin\":true,\"gridcolor\":\"white\",\"linecolor\":\"white\",\"ticks\":\"\",\"title\":{\"standoff\":15},\"zerolinecolor\":\"white\",\"zerolinewidth\":2}}},\"xaxis\":{\"anchor\":\"y\",\"domain\":[0.0,1.0],\"title\":{\"text\":\"time\"}},\"yaxis\":{\"anchor\":\"x\",\"domain\":[0.0,1.0],\"title\":{\"text\":\"values_0\"}},\"legend\":{\"title\":{\"text\":\"id\"},\"tracegroupgap\":0},\"margin\":{\"t\":60}},                        {\"responsive\": true}                    ).then(function(){\n",
              "                            \n",
              "var gd = document.getElementById('aeba1779-bc66-4f8f-8535-85558dd60371');\n",
              "var x = new MutationObserver(function (mutations, observer) {{\n",
              "        var display = window.getComputedStyle(gd).display;\n",
              "        if (!display || display === 'none') {{\n",
              "            console.log([gd, 'removed!']);\n",
              "            Plotly.purge(gd);\n",
              "            observer.disconnect();\n",
              "        }}\n",
              "}});\n",
              "\n",
              "// Listen for the removal of the full notebook cells\n",
              "var notebookContainer = gd.closest('#notebook-container');\n",
              "if (notebookContainer) {{\n",
              "    x.observe(notebookContainer, {childList: true});\n",
              "}}\n",
              "\n",
              "// Listen for the clearing of the current output cell\n",
              "var outputEl = gd.closest('.output');\n",
              "if (outputEl) {{\n",
              "    x.observe(outputEl, {childList: true});\n",
              "}}\n",
              "\n",
              "                        })                };                            </script>        </div>\n",
              "</body>\n",
              "</html>"
            ]
          },
          "metadata": {}
        }
      ]
    },
    {
      "cell_type": "code",
      "source": [],
      "metadata": {
        "id": "XZU5Bxf7bY8A"
      },
      "execution_count": null,
      "outputs": []
    }
  ]
}